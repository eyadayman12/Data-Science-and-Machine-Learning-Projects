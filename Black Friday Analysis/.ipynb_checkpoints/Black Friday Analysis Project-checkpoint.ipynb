{
 "cells": [
  {
   "cell_type": "code",
   "execution_count": null,
   "metadata": {
    "ExecuteTime": {
     "start_time": "2022-01-06T13:05:47.716Z"
    },
    "executionInfo": {
     "elapsed": 256,
     "status": "ok",
     "timestamp": 1638311782304,
     "user": {
      "displayName": "Eyad Gk",
      "photoUrl": "https://lh3.googleusercontent.com/a/default-user=s64",
      "userId": "03661387064598226500"
     },
     "user_tz": -120
    },
    "id": "nu6q5J65Q3Tm"
   },
   "outputs": [],
   "source": [
    "import pandas as pd\n",
    "import numpy as np\n",
    "from matplotlib import pyplot as plt\n",
    "%matplotlib inline\n",
    "import seaborn as sns\n",
    "\n",
    "from sklearn.preprocessing import LabelEncoder\n",
    "from sklearn.model_selection import train_test_split\n",
    "from sklearn.ensemble import GradientBoostingRegressor"
   ]
  },
  {
   "cell_type": "code",
   "execution_count": null,
   "metadata": {
    "id": "_eAA4IYfRKQ0"
   },
   "outputs": [],
   "source": [
    "df = pd.read_csv('BlackFriday.csv')"
   ]
  },
  {
   "cell_type": "code",
   "execution_count": null,
   "metadata": {
    "colab": {
     "base_uri": "https://localhost:8080/",
     "height": 296
    },
    "executionInfo": {
     "elapsed": 778,
     "status": "ok",
     "timestamp": 1638299669894,
     "user": {
      "displayName": "Eyad Gk",
      "photoUrl": "https://lh3.googleusercontent.com/a/default-user=s64",
      "userId": "03661387064598226500"
     },
     "user_tz": -120
    },
    "id": "yLHlmZ7tRQAG",
    "outputId": "c0b73ac3-44f0-4822-d772-6a703f7b50c9"
   },
   "outputs": [
    {
     "data": {
      "text/html": [
       "<div>\n",
       "<style scoped>\n",
       "    .dataframe tbody tr th:only-of-type {\n",
       "        vertical-align: middle;\n",
       "    }\n",
       "\n",
       "    .dataframe tbody tr th {\n",
       "        vertical-align: top;\n",
       "    }\n",
       "\n",
       "    .dataframe thead th {\n",
       "        text-align: right;\n",
       "    }\n",
       "</style>\n",
       "<table border=\"1\" class=\"dataframe\">\n",
       "  <thead>\n",
       "    <tr style=\"text-align: right;\">\n",
       "      <th></th>\n",
       "      <th>User_ID</th>\n",
       "      <th>Product_ID</th>\n",
       "      <th>Gender</th>\n",
       "      <th>Age</th>\n",
       "      <th>Occupation</th>\n",
       "      <th>City_Category</th>\n",
       "      <th>Stay_In_Current_City_Years</th>\n",
       "      <th>Marital_Status</th>\n",
       "      <th>Product_Category_1</th>\n",
       "      <th>Product_Category_2</th>\n",
       "      <th>Product_Category_3</th>\n",
       "      <th>Purchase</th>\n",
       "    </tr>\n",
       "  </thead>\n",
       "  <tbody>\n",
       "    <tr>\n",
       "      <th>0</th>\n",
       "      <td>1000001</td>\n",
       "      <td>P00069042</td>\n",
       "      <td>F</td>\n",
       "      <td>0-17</td>\n",
       "      <td>10.0</td>\n",
       "      <td>A</td>\n",
       "      <td>2</td>\n",
       "      <td>0.0</td>\n",
       "      <td>3.0</td>\n",
       "      <td>NaN</td>\n",
       "      <td>NaN</td>\n",
       "      <td>8370.0</td>\n",
       "    </tr>\n",
       "    <tr>\n",
       "      <th>1</th>\n",
       "      <td>1000001</td>\n",
       "      <td>P00248942</td>\n",
       "      <td>F</td>\n",
       "      <td>0-17</td>\n",
       "      <td>10.0</td>\n",
       "      <td>A</td>\n",
       "      <td>2</td>\n",
       "      <td>0.0</td>\n",
       "      <td>1.0</td>\n",
       "      <td>6.0</td>\n",
       "      <td>14.0</td>\n",
       "      <td>15200.0</td>\n",
       "    </tr>\n",
       "    <tr>\n",
       "      <th>2</th>\n",
       "      <td>1000001</td>\n",
       "      <td>P00087842</td>\n",
       "      <td>F</td>\n",
       "      <td>0-17</td>\n",
       "      <td>10.0</td>\n",
       "      <td>A</td>\n",
       "      <td>2</td>\n",
       "      <td>0.0</td>\n",
       "      <td>12.0</td>\n",
       "      <td>NaN</td>\n",
       "      <td>NaN</td>\n",
       "      <td>1422.0</td>\n",
       "    </tr>\n",
       "    <tr>\n",
       "      <th>3</th>\n",
       "      <td>1000001</td>\n",
       "      <td>P00085442</td>\n",
       "      <td>F</td>\n",
       "      <td>0-17</td>\n",
       "      <td>10.0</td>\n",
       "      <td>A</td>\n",
       "      <td>2</td>\n",
       "      <td>0.0</td>\n",
       "      <td>12.0</td>\n",
       "      <td>14.0</td>\n",
       "      <td>NaN</td>\n",
       "      <td>1057.0</td>\n",
       "    </tr>\n",
       "    <tr>\n",
       "      <th>4</th>\n",
       "      <td>1000002</td>\n",
       "      <td>P00285442</td>\n",
       "      <td>M</td>\n",
       "      <td>55+</td>\n",
       "      <td>16.0</td>\n",
       "      <td>C</td>\n",
       "      <td>4+</td>\n",
       "      <td>0.0</td>\n",
       "      <td>8.0</td>\n",
       "      <td>NaN</td>\n",
       "      <td>NaN</td>\n",
       "      <td>7969.0</td>\n",
       "    </tr>\n",
       "  </tbody>\n",
       "</table>\n",
       "</div>"
      ],
      "text/plain": [
       "   User_ID Product_ID Gender  ... Product_Category_2  Product_Category_3 Purchase\n",
       "0  1000001  P00069042      F  ...                NaN                 NaN   8370.0\n",
       "1  1000001  P00248942      F  ...                6.0                14.0  15200.0\n",
       "2  1000001  P00087842      F  ...                NaN                 NaN   1422.0\n",
       "3  1000001  P00085442      F  ...               14.0                 NaN   1057.0\n",
       "4  1000002  P00285442      M  ...                NaN                 NaN   7969.0\n",
       "\n",
       "[5 rows x 12 columns]"
      ]
     },
     "execution_count": 3,
     "metadata": {},
     "output_type": "execute_result"
    }
   ],
   "source": [
    "df.head()"
   ]
  },
  {
   "cell_type": "code",
   "execution_count": null,
   "metadata": {
    "colab": {
     "base_uri": "https://localhost:8080/"
    },
    "executionInfo": {
     "elapsed": 749,
     "status": "ok",
     "timestamp": 1638299705540,
     "user": {
      "displayName": "Eyad Gk",
      "photoUrl": "https://lh3.googleusercontent.com/a/default-user=s64",
      "userId": "03661387064598226500"
     },
     "user_tz": -120
    },
    "id": "b3FJVjVKRYrY",
    "outputId": "cfa4d9a2-00a9-49bf-cd9a-7185c2986fa4"
   },
   "outputs": [
    {
     "data": {
      "text/plain": [
       "(67760, 12)"
      ]
     },
     "execution_count": 5,
     "metadata": {},
     "output_type": "execute_result"
    }
   ],
   "source": [
    "df.shape"
   ]
  },
  {
   "cell_type": "code",
   "execution_count": null,
   "metadata": {
    "colab": {
     "base_uri": "https://localhost:8080/",
     "height": 296
    },
    "executionInfo": {
     "elapsed": 794,
     "status": "ok",
     "timestamp": 1638299709210,
     "user": {
      "displayName": "Eyad Gk",
      "photoUrl": "https://lh3.googleusercontent.com/a/default-user=s64",
      "userId": "03661387064598226500"
     },
     "user_tz": -120
    },
    "id": "psAlQbUjRQ2b",
    "outputId": "286f6061-8c05-4bdd-c714-f5079d9127c0"
   },
   "outputs": [
    {
     "data": {
      "text/html": [
       "<div>\n",
       "<style scoped>\n",
       "    .dataframe tbody tr th:only-of-type {\n",
       "        vertical-align: middle;\n",
       "    }\n",
       "\n",
       "    .dataframe tbody tr th {\n",
       "        vertical-align: top;\n",
       "    }\n",
       "\n",
       "    .dataframe thead th {\n",
       "        text-align: right;\n",
       "    }\n",
       "</style>\n",
       "<table border=\"1\" class=\"dataframe\">\n",
       "  <thead>\n",
       "    <tr style=\"text-align: right;\">\n",
       "      <th></th>\n",
       "      <th>User_ID</th>\n",
       "      <th>Product_ID</th>\n",
       "      <th>Gender</th>\n",
       "      <th>Age</th>\n",
       "      <th>Occupation</th>\n",
       "      <th>City_Category</th>\n",
       "      <th>Stay_In_Current_City_Years</th>\n",
       "      <th>Marital_Status</th>\n",
       "      <th>Product_Category_1</th>\n",
       "      <th>Product_Category_2</th>\n",
       "      <th>Product_Category_3</th>\n",
       "      <th>Purchase</th>\n",
       "    </tr>\n",
       "  </thead>\n",
       "  <tbody>\n",
       "    <tr>\n",
       "      <th>67755</th>\n",
       "      <td>1004374</td>\n",
       "      <td>P00180642</td>\n",
       "      <td>M</td>\n",
       "      <td>18-25</td>\n",
       "      <td>4.0</td>\n",
       "      <td>B</td>\n",
       "      <td>1</td>\n",
       "      <td>0.0</td>\n",
       "      <td>11.0</td>\n",
       "      <td>NaN</td>\n",
       "      <td>NaN</td>\n",
       "      <td>7544.0</td>\n",
       "    </tr>\n",
       "    <tr>\n",
       "      <th>67756</th>\n",
       "      <td>1004374</td>\n",
       "      <td>P00127942</td>\n",
       "      <td>M</td>\n",
       "      <td>18-25</td>\n",
       "      <td>4.0</td>\n",
       "      <td>B</td>\n",
       "      <td>1</td>\n",
       "      <td>0.0</td>\n",
       "      <td>1.0</td>\n",
       "      <td>2.0</td>\n",
       "      <td>5.0</td>\n",
       "      <td>15391.0</td>\n",
       "    </tr>\n",
       "    <tr>\n",
       "      <th>67757</th>\n",
       "      <td>1004375</td>\n",
       "      <td>P00057442</td>\n",
       "      <td>F</td>\n",
       "      <td>26-35</td>\n",
       "      <td>5.0</td>\n",
       "      <td>B</td>\n",
       "      <td>1</td>\n",
       "      <td>0.0</td>\n",
       "      <td>5.0</td>\n",
       "      <td>14.0</td>\n",
       "      <td>16.0</td>\n",
       "      <td>8611.0</td>\n",
       "    </tr>\n",
       "    <tr>\n",
       "      <th>67758</th>\n",
       "      <td>1004375</td>\n",
       "      <td>P00130442</td>\n",
       "      <td>F</td>\n",
       "      <td>26-35</td>\n",
       "      <td>5.0</td>\n",
       "      <td>B</td>\n",
       "      <td>1</td>\n",
       "      <td>0.0</td>\n",
       "      <td>3.0</td>\n",
       "      <td>5.0</td>\n",
       "      <td>NaN</td>\n",
       "      <td>10649.0</td>\n",
       "    </tr>\n",
       "    <tr>\n",
       "      <th>67759</th>\n",
       "      <td>10</td>\n",
       "      <td>NaN</td>\n",
       "      <td>NaN</td>\n",
       "      <td>NaN</td>\n",
       "      <td>NaN</td>\n",
       "      <td>NaN</td>\n",
       "      <td>NaN</td>\n",
       "      <td>NaN</td>\n",
       "      <td>NaN</td>\n",
       "      <td>NaN</td>\n",
       "      <td>NaN</td>\n",
       "      <td>NaN</td>\n",
       "    </tr>\n",
       "  </tbody>\n",
       "</table>\n",
       "</div>"
      ],
      "text/plain": [
       "       User_ID Product_ID  ... Product_Category_3 Purchase\n",
       "67755  1004374  P00180642  ...                NaN   7544.0\n",
       "67756  1004374  P00127942  ...                5.0  15391.0\n",
       "67757  1004375  P00057442  ...               16.0   8611.0\n",
       "67758  1004375  P00130442  ...                NaN  10649.0\n",
       "67759       10        NaN  ...                NaN      NaN\n",
       "\n",
       "[5 rows x 12 columns]"
      ]
     },
     "execution_count": 6,
     "metadata": {},
     "output_type": "execute_result"
    }
   ],
   "source": [
    "df.tail()"
   ]
  },
  {
   "cell_type": "code",
   "execution_count": null,
   "metadata": {
    "colab": {
     "base_uri": "https://localhost:8080/"
    },
    "executionInfo": {
     "elapsed": 688,
     "status": "ok",
     "timestamp": 1638299725138,
     "user": {
      "displayName": "Eyad Gk",
      "photoUrl": "https://lh3.googleusercontent.com/a/default-user=s64",
      "userId": "03661387064598226500"
     },
     "user_tz": -120
    },
    "id": "V7VqrferRWs_",
    "outputId": "f5216c82-7c4b-4765-c4c6-6b967dfe8b44"
   },
   "outputs": [
    {
     "name": "stdout",
     "output_type": "stream",
     "text": [
      "<class 'pandas.core.frame.DataFrame'>\n",
      "RangeIndex: 67760 entries, 0 to 67759\n",
      "Data columns (total 12 columns):\n",
      " #   Column                      Non-Null Count  Dtype  \n",
      "---  ------                      --------------  -----  \n",
      " 0   User_ID                     67760 non-null  int64  \n",
      " 1   Product_ID                  67759 non-null  object \n",
      " 2   Gender                      67759 non-null  object \n",
      " 3   Age                         67759 non-null  object \n",
      " 4   Occupation                  67759 non-null  float64\n",
      " 5   City_Category               67759 non-null  object \n",
      " 6   Stay_In_Current_City_Years  67759 non-null  object \n",
      " 7   Marital_Status              67759 non-null  float64\n",
      " 8   Product_Category_1          67759 non-null  float64\n",
      " 9   Product_Category_2          46523 non-null  float64\n",
      " 10  Product_Category_3          20613 non-null  float64\n",
      " 11  Purchase                    67759 non-null  float64\n",
      "dtypes: float64(6), int64(1), object(5)\n",
      "memory usage: 6.2+ MB\n"
     ]
    }
   ],
   "source": [
    "df.info()"
   ]
  },
  {
   "cell_type": "code",
   "execution_count": null,
   "metadata": {
    "colab": {
     "base_uri": "https://localhost:8080/",
     "height": 300
    },
    "executionInfo": {
     "elapsed": 594,
     "status": "ok",
     "timestamp": 1638299750570,
     "user": {
      "displayName": "Eyad Gk",
      "photoUrl": "https://lh3.googleusercontent.com/a/default-user=s64",
      "userId": "03661387064598226500"
     },
     "user_tz": -120
    },
    "id": "G6vfoYZLReSr",
    "outputId": "0e9195e0-c0d6-4bc9-9f8e-c4a067d8bc7e"
   },
   "outputs": [
    {
     "data": {
      "text/html": [
       "<div>\n",
       "<style scoped>\n",
       "    .dataframe tbody tr th:only-of-type {\n",
       "        vertical-align: middle;\n",
       "    }\n",
       "\n",
       "    .dataframe tbody tr th {\n",
       "        vertical-align: top;\n",
       "    }\n",
       "\n",
       "    .dataframe thead th {\n",
       "        text-align: right;\n",
       "    }\n",
       "</style>\n",
       "<table border=\"1\" class=\"dataframe\">\n",
       "  <thead>\n",
       "    <tr style=\"text-align: right;\">\n",
       "      <th></th>\n",
       "      <th>User_ID</th>\n",
       "      <th>Occupation</th>\n",
       "      <th>Marital_Status</th>\n",
       "      <th>Product_Category_1</th>\n",
       "      <th>Product_Category_2</th>\n",
       "      <th>Product_Category_3</th>\n",
       "      <th>Purchase</th>\n",
       "    </tr>\n",
       "  </thead>\n",
       "  <tbody>\n",
       "    <tr>\n",
       "      <th>count</th>\n",
       "      <td>6.776000e+04</td>\n",
       "      <td>67759.000000</td>\n",
       "      <td>67759.000000</td>\n",
       "      <td>67759.000000</td>\n",
       "      <td>46523.000000</td>\n",
       "      <td>20613.000000</td>\n",
       "      <td>67759.000000</td>\n",
       "    </tr>\n",
       "    <tr>\n",
       "      <th>mean</th>\n",
       "      <td>1.002666e+06</td>\n",
       "      <td>8.150519</td>\n",
       "      <td>0.403651</td>\n",
       "      <td>5.299075</td>\n",
       "      <td>9.874686</td>\n",
       "      <td>12.709504</td>\n",
       "      <td>9295.979899</td>\n",
       "    </tr>\n",
       "    <tr>\n",
       "      <th>std</th>\n",
       "      <td>4.172374e+03</td>\n",
       "      <td>6.534518</td>\n",
       "      <td>0.490633</td>\n",
       "      <td>3.731052</td>\n",
       "      <td>5.076390</td>\n",
       "      <td>4.109106</td>\n",
       "      <td>4962.435754</td>\n",
       "    </tr>\n",
       "    <tr>\n",
       "      <th>min</th>\n",
       "      <td>1.000000e+01</td>\n",
       "      <td>0.000000</td>\n",
       "      <td>0.000000</td>\n",
       "      <td>1.000000</td>\n",
       "      <td>2.000000</td>\n",
       "      <td>3.000000</td>\n",
       "      <td>185.000000</td>\n",
       "    </tr>\n",
       "    <tr>\n",
       "      <th>25%</th>\n",
       "      <td>1.001301e+06</td>\n",
       "      <td>2.000000</td>\n",
       "      <td>0.000000</td>\n",
       "      <td>1.000000</td>\n",
       "      <td>5.000000</td>\n",
       "      <td>9.000000</td>\n",
       "      <td>5865.000000</td>\n",
       "    </tr>\n",
       "    <tr>\n",
       "      <th>50%</th>\n",
       "      <td>1.002643e+06</td>\n",
       "      <td>7.000000</td>\n",
       "      <td>0.000000</td>\n",
       "      <td>5.000000</td>\n",
       "      <td>9.000000</td>\n",
       "      <td>14.000000</td>\n",
       "      <td>8052.000000</td>\n",
       "    </tr>\n",
       "    <tr>\n",
       "      <th>75%</th>\n",
       "      <td>1.003902e+06</td>\n",
       "      <td>14.000000</td>\n",
       "      <td>1.000000</td>\n",
       "      <td>8.000000</td>\n",
       "      <td>15.000000</td>\n",
       "      <td>16.000000</td>\n",
       "      <td>12044.000000</td>\n",
       "    </tr>\n",
       "    <tr>\n",
       "      <th>max</th>\n",
       "      <td>1.006040e+06</td>\n",
       "      <td>20.000000</td>\n",
       "      <td>1.000000</td>\n",
       "      <td>18.000000</td>\n",
       "      <td>18.000000</td>\n",
       "      <td>18.000000</td>\n",
       "      <td>23958.000000</td>\n",
       "    </tr>\n",
       "  </tbody>\n",
       "</table>\n",
       "</div>"
      ],
      "text/plain": [
       "            User_ID    Occupation  ...  Product_Category_3      Purchase\n",
       "count  6.776000e+04  67759.000000  ...        20613.000000  67759.000000\n",
       "mean   1.002666e+06      8.150519  ...           12.709504   9295.979899\n",
       "std    4.172374e+03      6.534518  ...            4.109106   4962.435754\n",
       "min    1.000000e+01      0.000000  ...            3.000000    185.000000\n",
       "25%    1.001301e+06      2.000000  ...            9.000000   5865.000000\n",
       "50%    1.002643e+06      7.000000  ...           14.000000   8052.000000\n",
       "75%    1.003902e+06     14.000000  ...           16.000000  12044.000000\n",
       "max    1.006040e+06     20.000000  ...           18.000000  23958.000000\n",
       "\n",
       "[8 rows x 7 columns]"
      ]
     },
     "execution_count": 8,
     "metadata": {},
     "output_type": "execute_result"
    }
   ],
   "source": [
    "df.describe()"
   ]
  },
  {
   "cell_type": "code",
   "execution_count": null,
   "metadata": {
    "colab": {
     "base_uri": "https://localhost:8080/"
    },
    "executionInfo": {
     "elapsed": 8,
     "status": "ok",
     "timestamp": 1638299855511,
     "user": {
      "displayName": "Eyad Gk",
      "photoUrl": "https://lh3.googleusercontent.com/a/default-user=s64",
      "userId": "03661387064598226500"
     },
     "user_tz": -120
    },
    "id": "epOCSIKVRkb-",
    "outputId": "33f58b5a-ae82-4e39-a291-e44191c16675"
   },
   "outputs": [
    {
     "data": {
      "text/plain": [
       "Index(['Product_ID', 'Gender', 'Age', 'Occupation', 'City_Category',\n",
       "       'Stay_In_Current_City_Years', 'Marital_Status', 'Product_Category_1',\n",
       "       'Product_Category_2', 'Product_Category_3', 'Purchase'],\n",
       "      dtype='object')"
      ]
     },
     "execution_count": 11,
     "metadata": {},
     "output_type": "execute_result"
    }
   ],
   "source": [
    "df.columns[df.isna().any()]"
   ]
  },
  {
   "cell_type": "markdown",
   "metadata": {
    "id": "Jl_kSIkgSMEd"
   },
   "source": [
    "***Handling Missing Values***"
   ]
  },
  {
   "cell_type": "code",
   "execution_count": null,
   "metadata": {
    "colab": {
     "base_uri": "https://localhost:8080/"
    },
    "executionInfo": {
     "elapsed": 633,
     "status": "ok",
     "timestamp": 1638299887024,
     "user": {
      "displayName": "Eyad Gk",
      "photoUrl": "https://lh3.googleusercontent.com/a/default-user=s64",
      "userId": "03661387064598226500"
     },
     "user_tz": -120
    },
    "id": "E-zjJNNvRzR-",
    "outputId": "f6e7e558-a1ca-4780-eaec-1a6fa83847b5"
   },
   "outputs": [
    {
     "data": {
      "text/plain": [
       "User_ID                           0\n",
       "Product_ID                        1\n",
       "Gender                            1\n",
       "Age                               1\n",
       "Occupation                        1\n",
       "City_Category                     1\n",
       "Stay_In_Current_City_Years        1\n",
       "Marital_Status                    1\n",
       "Product_Category_1                1\n",
       "Product_Category_2            21237\n",
       "Product_Category_3            47147\n",
       "Purchase                          1\n",
       "dtype: int64"
      ]
     },
     "execution_count": 12,
     "metadata": {},
     "output_type": "execute_result"
    }
   ],
   "source": [
    "df.isnull().sum()"
   ]
  },
  {
   "cell_type": "code",
   "execution_count": null,
   "metadata": {
    "id": "MkNeMAh5SFtB"
   },
   "outputs": [],
   "source": [
    "df.Product_Category_2.fillna(0, inplace=True)\n",
    "df.Product_Category_3.fillna(0, inplace=True)"
   ]
  },
  {
   "cell_type": "code",
   "execution_count": null,
   "metadata": {
    "colab": {
     "base_uri": "https://localhost:8080/"
    },
    "executionInfo": {
     "elapsed": 431,
     "status": "ok",
     "timestamp": 1638299986778,
     "user": {
      "displayName": "Eyad Gk",
      "photoUrl": "https://lh3.googleusercontent.com/a/default-user=s64",
      "userId": "03661387064598226500"
     },
     "user_tz": -120
    },
    "id": "nhRTyomUSdI1",
    "outputId": "f4582236-b673-40d5-b25d-532f29f495fb"
   },
   "outputs": [
    {
     "data": {
      "text/plain": [
       "User_ID                       0\n",
       "Product_ID                    1\n",
       "Gender                        1\n",
       "Age                           1\n",
       "Occupation                    1\n",
       "City_Category                 1\n",
       "Stay_In_Current_City_Years    1\n",
       "Marital_Status                1\n",
       "Product_Category_1            1\n",
       "Product_Category_2            0\n",
       "Product_Category_3            0\n",
       "Purchase                      1\n",
       "dtype: int64"
      ]
     },
     "execution_count": 14,
     "metadata": {},
     "output_type": "execute_result"
    }
   ],
   "source": [
    "df.isnull().sum()"
   ]
  },
  {
   "cell_type": "code",
   "execution_count": null,
   "metadata": {
    "id": "CsfT2fIlSeZJ"
   },
   "outputs": [],
   "source": [
    "df.dropna(inplace=True)"
   ]
  },
  {
   "cell_type": "code",
   "execution_count": null,
   "metadata": {
    "colab": {
     "base_uri": "https://localhost:8080/"
    },
    "executionInfo": {
     "elapsed": 6,
     "status": "ok",
     "timestamp": 1638300004192,
     "user": {
      "displayName": "Eyad Gk",
      "photoUrl": "https://lh3.googleusercontent.com/a/default-user=s64",
      "userId": "03661387064598226500"
     },
     "user_tz": -120
    },
    "id": "djEC9Ro3Shr0",
    "outputId": "2fc9ecd5-5e95-4175-96e3-c47d2d0961d0"
   },
   "outputs": [
    {
     "data": {
      "text/plain": [
       "User_ID                       0\n",
       "Product_ID                    0\n",
       "Gender                        0\n",
       "Age                           0\n",
       "Occupation                    0\n",
       "City_Category                 0\n",
       "Stay_In_Current_City_Years    0\n",
       "Marital_Status                0\n",
       "Product_Category_1            0\n",
       "Product_Category_2            0\n",
       "Product_Category_3            0\n",
       "Purchase                      0\n",
       "dtype: int64"
      ]
     },
     "execution_count": 16,
     "metadata": {},
     "output_type": "execute_result"
    }
   ],
   "source": [
    "df.isnull().sum()"
   ]
  },
  {
   "cell_type": "code",
   "execution_count": null,
   "metadata": {
    "colab": {
     "base_uri": "https://localhost:8080/"
    },
    "executionInfo": {
     "elapsed": 650,
     "status": "ok",
     "timestamp": 1638300011073,
     "user": {
      "displayName": "Eyad Gk",
      "photoUrl": "https://lh3.googleusercontent.com/a/default-user=s64",
      "userId": "03661387064598226500"
     },
     "user_tz": -120
    },
    "id": "MQ0s2KE-SidP",
    "outputId": "31ec0db2-99f4-4d16-cfe8-2adb494343c2"
   },
   "outputs": [
    {
     "data": {
      "text/plain": [
       "(67759, 12)"
      ]
     },
     "execution_count": 17,
     "metadata": {},
     "output_type": "execute_result"
    }
   ],
   "source": [
    "df.shape"
   ]
  },
  {
   "cell_type": "code",
   "execution_count": null,
   "metadata": {
    "colab": {
     "base_uri": "https://localhost:8080/"
    },
    "executionInfo": {
     "elapsed": 2484,
     "status": "ok",
     "timestamp": 1638300027230,
     "user": {
      "displayName": "Eyad Gk",
      "photoUrl": "https://lh3.googleusercontent.com/a/default-user=s64",
      "userId": "03661387064598226500"
     },
     "user_tz": -120
    },
    "id": "1xZ3Fm4vSkLe",
    "outputId": "3ab56104-85c9-43f5-a37c-61ec98a48b7b"
   },
   "outputs": [
    {
     "data": {
      "text/plain": [
       "User_ID                        5614\n",
       "Product_ID                     3187\n",
       "Gender                            2\n",
       "Age                               7\n",
       "Occupation                       21\n",
       "City_Category                     3\n",
       "Stay_In_Current_City_Years        5\n",
       "Marital_Status                    2\n",
       "Product_Category_1               18\n",
       "Product_Category_2               18\n",
       "Product_Category_3               16\n",
       "Purchase                      12715\n",
       "dtype: int64"
      ]
     },
     "execution_count": 18,
     "metadata": {},
     "output_type": "execute_result"
    }
   ],
   "source": [
    "df.nunique()"
   ]
  },
  {
   "cell_type": "markdown",
   "metadata": {
    "id": "oR8SR39-Sy6n"
   },
   "source": [
    "**Data Analysis**"
   ]
  },
  {
   "cell_type": "code",
   "execution_count": null,
   "metadata": {
    "colab": {
     "base_uri": "https://localhost:8080/"
    },
    "executionInfo": {
     "elapsed": 512,
     "status": "ok",
     "timestamp": 1638301205807,
     "user": {
      "displayName": "Eyad Gk",
      "photoUrl": "https://lh3.googleusercontent.com/a/default-user=s64",
      "userId": "03661387064598226500"
     },
     "user_tz": -120
    },
    "id": "4n4uTQRbW_9v",
    "outputId": "afd42f5b-4fdf-45f4-8eb1-9404bc1dda28"
   },
   "outputs": [
    {
     "data": {
      "text/plain": [
       "dtype('int32')"
      ]
     },
     "execution_count": 38,
     "metadata": {},
     "output_type": "execute_result"
    }
   ],
   "source": [
    "df.Occupation = df.Occupation.astype('int32')\n",
    "df.Occupation.dtypes"
   ]
  },
  {
   "cell_type": "code",
   "execution_count": null,
   "metadata": {
    "id": "fX9b5coAZoDj"
   },
   "outputs": [],
   "source": [
    "df.Product_Category_1 = df.Product_Category_1.astype('int32')\n",
    "df.Product_Category_2 = df.Product_Category_2.astype('int32')\n",
    "df.Product_Category_3 = df.Product_Category_3.astype('int32')"
   ]
  },
  {
   "cell_type": "code",
   "execution_count": null,
   "metadata": {
    "colab": {
     "base_uri": "https://localhost:8080/"
    },
    "executionInfo": {
     "elapsed": 10,
     "status": "ok",
     "timestamp": 1638303423026,
     "user": {
      "displayName": "Eyad Gk",
      "photoUrl": "https://lh3.googleusercontent.com/a/default-user=s64",
      "userId": "03661387064598226500"
     },
     "user_tz": -120
    },
    "id": "9d_sA8qJfjlh",
    "outputId": "21b1251c-088f-4242-e7f8-467c448bcd85"
   },
   "outputs": [
    {
     "data": {
      "text/plain": [
       "M    51573\n",
       "F    16186\n",
       "Name: Gender, dtype: int64"
      ]
     },
     "execution_count": 47,
     "metadata": {},
     "output_type": "execute_result"
    }
   ],
   "source": [
    "df.Gender.value_counts()"
   ]
  },
  {
   "cell_type": "code",
   "execution_count": null,
   "metadata": {
    "colab": {
     "base_uri": "https://localhost:8080/"
    },
    "executionInfo": {
     "elapsed": 266,
     "status": "ok",
     "timestamp": 1638303437470,
     "user": {
      "displayName": "Eyad Gk",
      "photoUrl": "https://lh3.googleusercontent.com/a/default-user=s64",
      "userId": "03661387064598226500"
     },
     "user_tz": -120
    },
    "id": "rwLGTxvnfmik",
    "outputId": "6293dd17-4efa-4940-8ed1-98c5eaaf3630"
   },
   "outputs": [
    {
     "data": {
      "text/plain": [
       "0.0    40408\n",
       "1.0    27351\n",
       "Name: Marital_Status, dtype: int64"
      ]
     },
     "execution_count": 48,
     "metadata": {},
     "output_type": "execute_result"
    }
   ],
   "source": [
    "df.Marital_Status.value_counts()"
   ]
  },
  {
   "cell_type": "code",
   "execution_count": null,
   "metadata": {
    "colab": {
     "base_uri": "https://localhost:8080/"
    },
    "executionInfo": {
     "elapsed": 335,
     "status": "ok",
     "timestamp": 1638303454843,
     "user": {
      "displayName": "Eyad Gk",
      "photoUrl": "https://lh3.googleusercontent.com/a/default-user=s64",
      "userId": "03661387064598226500"
     },
     "user_tz": -120
    },
    "id": "NckydXQbfrS3",
    "outputId": "d1fe4273-c492-4cf8-e496-7f7d76d0d831"
   },
   "outputs": [
    {
     "data": {
      "text/plain": [
       "26-35    26757\n",
       "36-45    13549\n",
       "18-25    12782\n",
       "46-50     5408\n",
       "51-55     4803\n",
       "55+       2677\n",
       "0-17      1783\n",
       "Name: Age, dtype: int64"
      ]
     },
     "execution_count": 49,
     "metadata": {},
     "output_type": "execute_result"
    }
   ],
   "source": [
    "df.Age.value_counts()"
   ]
  },
  {
   "cell_type": "code",
   "execution_count": null,
   "metadata": {
    "colab": {
     "base_uri": "https://localhost:8080/"
    },
    "executionInfo": {
     "elapsed": 254,
     "status": "ok",
     "timestamp": 1638303472390,
     "user": {
      "displayName": "Eyad Gk",
      "photoUrl": "https://lh3.googleusercontent.com/a/default-user=s64",
      "userId": "03661387064598226500"
     },
     "user_tz": -120
    },
    "id": "1Di4fdSHfu-f",
    "outputId": "3e44974e-ca1c-4196-e045-ca15571c0751"
   },
   "outputs": [
    {
     "data": {
      "text/plain": [
       "4     9104\n",
       "0     8648\n",
       "7     7256\n",
       "1     5448\n",
       "17    5026\n",
       "20    4205\n",
       "12    3829\n",
       "14    3456\n",
       "2     3120\n",
       "16    3043\n",
       "6     2448\n",
       "3     2290\n",
       "10    1563\n",
       "11    1481\n",
       "15    1455\n",
       "5     1412\n",
       "19    1076\n",
       "13    1035\n",
       "18     886\n",
       "9      778\n",
       "8      200\n",
       "Name: Occupation, dtype: int64"
      ]
     },
     "execution_count": 50,
     "metadata": {},
     "output_type": "execute_result"
    }
   ],
   "source": [
    "df.Occupation.value_counts()"
   ]
  },
  {
   "cell_type": "code",
   "execution_count": null,
   "metadata": {
    "colab": {
     "base_uri": "https://localhost:8080/",
     "height": 731
    },
    "executionInfo": {
     "elapsed": 947,
     "status": "ok",
     "timestamp": 1638301210040,
     "user": {
      "displayName": "Eyad Gk",
      "photoUrl": "https://lh3.googleusercontent.com/a/default-user=s64",
      "userId": "03661387064598226500"
     },
     "user_tz": -120
    },
    "id": "3gpacEf5SnlX",
    "outputId": "8c95b21e-5f87-444b-af02-39cd4252e39b"
   },
   "outputs": [
    {
     "data": {
      "text/plain": [
       "<matplotlib.axes._subplots.AxesSubplot at 0x7f19fc07b150>"
      ]
     },
     "execution_count": 39,
     "metadata": {},
     "output_type": "execute_result"
    },
    {
     "data": {
      "image/png": "[encoded data removed]",
      "text/plain": [
       "<Figure size 1440x864 with 4 Axes>"
      ]
     },
     "metadata": {
      "needs_background": "light"
     },
     "output_type": "display_data"
    }
   ],
   "source": [
    "plt.figure(figsize=(20,12))\n",
    "\n",
    "plt.subplot(2,2,1)\n",
    "male = df.Gender[df.Gender == 'M'].count()\n",
    "female = df.Gender[df.Gender == 'F'].count()\n",
    "plt.pie([male, female], labels=['Male', 'Female'], explode=(0,0.01), autopct=\"%.2f%%\")\n",
    "\n",
    "plt.subplot(2,2,2)\n",
    "married = df.Marital_Status[df.Marital_Status == 1].count()\n",
    "single = df.Marital_Status[df.Marital_Status == 0].count()\n",
    "plt.pie([married, single], labels=['Married', 'Single'], explode=(0,0.01), autopct=\"%.2f%%\", colors=['grey', 'lightblue'])\n",
    "\n",
    "plt.subplot(2,2,3)\n",
    "sns.countplot(x='Age', data=df)\n",
    "\n",
    "plt.subplot(2,2,4)\n",
    "sns.countplot(x='Occupation', label=True,data=df)"
   ]
  },
  {
   "cell_type": "markdown",
   "metadata": {
    "id": "KbwGnISmXM_e"
   },
   "source": [
    "***- there is 76.11% male and 23.89% Female buyers from the store*** <br>\n",
    "***- The age group between 26-35 years is the most popular in the store most purchases are made by people between 18 to 45 age group***<br>\n",
    "***- About 60% of the buyers are singels and 40% are married*** <br>\n",
    "***- we do not known to each occupation each number corresponds, is difficult to make any analysis.***"
   ]
  },
  {
   "cell_type": "code",
   "execution_count": null,
   "metadata": {
    "colab": {
     "base_uri": "https://localhost:8080/"
    },
    "executionInfo": {
     "elapsed": 325,
     "status": "ok",
     "timestamp": 1638303509591,
     "user": {
      "displayName": "Eyad Gk",
      "photoUrl": "https://lh3.googleusercontent.com/a/default-user=s64",
      "userId": "03661387064598226500"
     },
     "user_tz": -120
    },
    "id": "adRTN2b8f3at",
    "outputId": "f703f9a8-c98a-4216-b449-7a5160f2e163"
   },
   "outputs": [
    {
     "data": {
      "text/plain": [
       "5     18955\n",
       "1     17335\n",
       "8     14186\n",
       "11     3143\n",
       "2      2959\n",
       "6      2473\n",
       "3      2426\n",
       "4      1424\n",
       "16     1167\n",
       "15      777\n",
       "13      666\n",
       "10      603\n",
       "12      482\n",
       "7       470\n",
       "18      361\n",
       "14      192\n",
       "17       78\n",
       "9        62\n",
       "Name: Product_Category_1, dtype: int64"
      ]
     },
     "execution_count": 51,
     "metadata": {},
     "output_type": "execute_result"
    }
   ],
   "source": [
    "df.Product_Category_1.value_counts()"
   ]
  },
  {
   "cell_type": "code",
   "execution_count": null,
   "metadata": {
    "colab": {
     "base_uri": "https://localhost:8080/"
    },
    "executionInfo": {
     "elapsed": 323,
     "status": "ok",
     "timestamp": 1638303522465,
     "user": {
      "displayName": "Eyad Gk",
      "photoUrl": "https://lh3.googleusercontent.com/a/default-user=s64",
      "userId": "03661387064598226500"
     },
     "user_tz": -120
    },
    "id": "02GwPhMtf74h",
    "outputId": "54ffd003-d7be-492a-bd1d-9c1d3fe15d36"
   },
   "outputs": [
    {
     "data": {
      "text/plain": [
       "0     21236\n",
       "8      7866\n",
       "14     6873\n",
       "2      5993\n",
       "16     5390\n",
       "15     4667\n",
       "5      3255\n",
       "4      3089\n",
       "6      2086\n",
       "11     1740\n",
       "17     1648\n",
       "13     1314\n",
       "9       750\n",
       "12      702\n",
       "10      375\n",
       "3       361\n",
       "18      339\n",
       "7        75\n",
       "Name: Product_Category_2, dtype: int64"
      ]
     },
     "execution_count": 52,
     "metadata": {},
     "output_type": "execute_result"
    }
   ],
   "source": [
    "df.Product_Category_2.value_counts()"
   ]
  },
  {
   "cell_type": "code",
   "execution_count": null,
   "metadata": {
    "colab": {
     "base_uri": "https://localhost:8080/"
    },
    "executionInfo": {
     "elapsed": 352,
     "status": "ok",
     "timestamp": 1638303530581,
     "user": {
      "displayName": "Eyad Gk",
      "photoUrl": "https://lh3.googleusercontent.com/a/default-user=s64",
      "userId": "03661387064598226500"
     },
     "user_tz": -120
    },
    "id": "vHfJBrsUf-iw",
    "outputId": "6c1fc983-ee40-45a5-8a4c-12f764704ad8"
   },
   "outputs": [
    {
     "data": {
      "text/plain": [
       "0     47146\n",
       "16     4054\n",
       "15     3470\n",
       "14     2278\n",
       "17     2158\n",
       "5      2004\n",
       "8      1494\n",
       "9      1438\n",
       "12     1147\n",
       "13      679\n",
       "6       612\n",
       "18      531\n",
       "4       237\n",
       "11      228\n",
       "10      207\n",
       "3        76\n",
       "Name: Product_Category_3, dtype: int64"
      ]
     },
     "execution_count": 53,
     "metadata": {},
     "output_type": "execute_result"
    }
   ],
   "source": [
    "df.Product_Category_3.value_counts()"
   ]
  },
  {
   "cell_type": "code",
   "execution_count": null,
   "metadata": {
    "colab": {
     "base_uri": "https://localhost:8080/",
     "height": 732
    },
    "executionInfo": {
     "elapsed": 1856,
     "status": "ok",
     "timestamp": 1638301931714,
     "user": {
      "displayName": "Eyad Gk",
      "photoUrl": "https://lh3.googleusercontent.com/a/default-user=s64",
      "userId": "03661387064598226500"
     },
     "user_tz": -120
    },
    "id": "LziQETMpYbh2",
    "outputId": "a31f9a72-155a-4153-a6bb-4ecaed05dcd5"
   },
   "outputs": [
    {
     "data": {
      "text/plain": [
       "<matplotlib.axes._subplots.AxesSubplot at 0x7f19fb424050>"
      ]
     },
     "execution_count": 43,
     "metadata": {},
     "output_type": "execute_result"
    },
    {
     "data": {
      "image/png": "[encoded data removed]",
      "text/plain": [
       "<Figure size 1440x864 with 3 Axes>"
      ]
     },
     "metadata": {
      "needs_background": "light"
     },
     "output_type": "display_data"
    }
   ],
   "source": [
    "plt.figure(figsize=(20,12))\n",
    "\n",
    "plt.subplot(2,2,1)\n",
    "sns.countplot(x='Product_Category_1', data=df)\n",
    "\n",
    "plt.subplot(2,2,2)\n",
    "sns.countplot(x='Product_Category_2', data=df)\n",
    "\n",
    "plt.subplot(2,2,3)\n",
    "sns.countplot(x='Product_Category_3', data=df)"
   ]
  },
  {
   "cell_type": "markdown",
   "metadata": {
    "id": "vj9BDZqNcwXZ"
   },
   "source": [
    "***hint: we dont know the product names***<br>\n",
    "***- In Product_Category_1 we have more products in numbers 1,5,8***<br>\n",
    "***- In product_category_2 we have 8,2,14,15,16 products more but***<br>\n",
    "***- In Product_category_3 we have more products in numbers 5,14,15,16,17***<br>\n",
    "***- Peopole are more likely to come to the store and buy products only from product_Category_1 They are satisfied with this and do not buy products from other Categories***"
   ]
  },
  {
   "cell_type": "code",
   "execution_count": null,
   "metadata": {
    "colab": {
     "base_uri": "https://localhost:8080/"
    },
    "executionInfo": {
     "elapsed": 509,
     "status": "ok",
     "timestamp": 1638303588309,
     "user": {
      "displayName": "Eyad Gk",
      "photoUrl": "https://lh3.googleusercontent.com/a/default-user=s64",
      "userId": "03661387064598226500"
     },
     "user_tz": -120
    },
    "id": "EdIqRZOagJ9U",
    "outputId": "09580f56-db37-4536-8069-d0d7d50ffbe3"
   },
   "outputs": [
    {
     "data": {
      "text/plain": [
       "B    28714\n",
       "C    20845\n",
       "A    18200\n",
       "Name: City_Category, dtype: int64"
      ]
     },
     "execution_count": 54,
     "metadata": {},
     "output_type": "execute_result"
    }
   ],
   "source": [
    "df.City_Category.value_counts()"
   ]
  },
  {
   "cell_type": "code",
   "execution_count": null,
   "metadata": {
    "colab": {
     "base_uri": "https://localhost:8080/"
    },
    "executionInfo": {
     "elapsed": 416,
     "status": "ok",
     "timestamp": 1638303613198,
     "user": {
      "displayName": "Eyad Gk",
      "photoUrl": "https://lh3.googleusercontent.com/a/default-user=s64",
      "userId": "03661387064598226500"
     },
     "user_tz": -120
    },
    "id": "pi9UCBYigOjI",
    "outputId": "341b7191-11c5-4886-b2ef-03dd8e5366c7"
   },
   "outputs": [
    {
     "data": {
      "text/plain": [
       "1     23622\n",
       "2     12562\n",
       "3     11779\n",
       "4+    10598\n",
       "0      9198\n",
       "Name: Stay_In_Current_City_Years, dtype: int64"
      ]
     },
     "execution_count": 55,
     "metadata": {},
     "output_type": "execute_result"
    }
   ],
   "source": [
    "df.Stay_In_Current_City_Years.value_counts()"
   ]
  },
  {
   "cell_type": "code",
   "execution_count": null,
   "metadata": {
    "colab": {
     "base_uri": "https://localhost:8080/",
     "height": 379
    },
    "executionInfo": {
     "elapsed": 765,
     "status": "ok",
     "timestamp": 1638303260747,
     "user": {
      "displayName": "Eyad Gk",
      "photoUrl": "https://lh3.googleusercontent.com/a/default-user=s64",
      "userId": "03661387064598226500"
     },
     "user_tz": -120
    },
    "id": "EBitjvkFeJM2",
    "outputId": "b8db6cc3-a7ce-4c43-f950-4dfab707fed9"
   },
   "outputs": [
    {
     "data": {
      "text/plain": [
       "<matplotlib.axes._subplots.AxesSubplot at 0x7f19fb291d10>"
      ]
     },
     "execution_count": 46,
     "metadata": {},
     "output_type": "execute_result"
    },
    {
     "data": {
      "image/png": "[encoded data removed]",
      "text/plain": [
       "<Figure size 1440x864 with 2 Axes>"
      ]
     },
     "metadata": {
      "needs_background": "light"
     },
     "output_type": "display_data"
    }
   ],
   "source": [
    "plt.figure(figsize=(20,12))\n",
    "\n",
    "plt.subplot(2,2,1)\n",
    "sns.countplot(x='City_Category', data=df)\n",
    "\n",
    "plt.subplot(2,2,2)\n",
    "sns.countplot(x='Stay_In_Current_City_Years', data=df)\n"
   ]
  },
  {
   "cell_type": "markdown",
   "metadata": {
    "id": "pu1u6qf5fCyJ"
   },
   "source": [
    "***- Pepole from City_Category B are more likely to come to the store***<br>\n",
    "***- It can be observed that, as people who are new in the the current city, they tend to visit the store more frequently***"
   ]
  },
  {
   "cell_type": "code",
   "execution_count": null,
   "metadata": {
    "colab": {
     "base_uri": "https://localhost:8080/",
     "height": 216
    },
    "executionInfo": {
     "elapsed": 1876,
     "status": "ok",
     "timestamp": 1638303795907,
     "user": {
      "displayName": "Eyad Gk",
      "photoUrl": "https://lh3.googleusercontent.com/a/default-user=s64",
      "userId": "03661387064598226500"
     },
     "user_tz": -120
    },
    "id": "1lfudFBte6pF",
    "outputId": "eea9bdb0-9c24-45a7-d5a2-c737edd8e12f"
   },
   "outputs": [
    {
     "data": {
      "text/html": [
       "<div>\n",
       "<style scoped>\n",
       "    .dataframe tbody tr th:only-of-type {\n",
       "        vertical-align: middle;\n",
       "    }\n",
       "\n",
       "    .dataframe tbody tr th {\n",
       "        vertical-align: top;\n",
       "    }\n",
       "\n",
       "    .dataframe thead th {\n",
       "        text-align: right;\n",
       "    }\n",
       "</style>\n",
       "<table border=\"1\" class=\"dataframe\">\n",
       "  <thead>\n",
       "    <tr style=\"text-align: right;\">\n",
       "      <th></th>\n",
       "      <th>User_ID</th>\n",
       "      <th>Product_ID</th>\n",
       "      <th>Gender</th>\n",
       "      <th>Age</th>\n",
       "      <th>Occupation</th>\n",
       "      <th>City_Category</th>\n",
       "      <th>Stay_In_Current_City_Years</th>\n",
       "      <th>Marital_Status</th>\n",
       "      <th>Product_Category_1</th>\n",
       "      <th>Product_Category_2</th>\n",
       "      <th>Product_Category_3</th>\n",
       "      <th>Purchase</th>\n",
       "      <th>Gender_MaritalStatus</th>\n",
       "    </tr>\n",
       "  </thead>\n",
       "  <tbody>\n",
       "    <tr>\n",
       "      <th>0</th>\n",
       "      <td>1000001</td>\n",
       "      <td>P00069042</td>\n",
       "      <td>F</td>\n",
       "      <td>0-17</td>\n",
       "      <td>10</td>\n",
       "      <td>A</td>\n",
       "      <td>2</td>\n",
       "      <td>Single</td>\n",
       "      <td>3</td>\n",
       "      <td>0</td>\n",
       "      <td>0</td>\n",
       "      <td>8370.0</td>\n",
       "      <td>F_Single</td>\n",
       "    </tr>\n",
       "    <tr>\n",
       "      <th>1</th>\n",
       "      <td>1000001</td>\n",
       "      <td>P00248942</td>\n",
       "      <td>F</td>\n",
       "      <td>0-17</td>\n",
       "      <td>10</td>\n",
       "      <td>A</td>\n",
       "      <td>2</td>\n",
       "      <td>Single</td>\n",
       "      <td>1</td>\n",
       "      <td>6</td>\n",
       "      <td>14</td>\n",
       "      <td>15200.0</td>\n",
       "      <td>F_Single</td>\n",
       "    </tr>\n",
       "    <tr>\n",
       "      <th>2</th>\n",
       "      <td>1000001</td>\n",
       "      <td>P00087842</td>\n",
       "      <td>F</td>\n",
       "      <td>0-17</td>\n",
       "      <td>10</td>\n",
       "      <td>A</td>\n",
       "      <td>2</td>\n",
       "      <td>Single</td>\n",
       "      <td>12</td>\n",
       "      <td>0</td>\n",
       "      <td>0</td>\n",
       "      <td>1422.0</td>\n",
       "      <td>F_Single</td>\n",
       "    </tr>\n",
       "  </tbody>\n",
       "</table>\n",
       "</div>"
      ],
      "text/plain": [
       "   User_ID Product_ID Gender  ... Product_Category_3  Purchase Gender_MaritalStatus\n",
       "0  1000001  P00069042      F  ...                  0    8370.0             F_Single\n",
       "1  1000001  P00248942      F  ...                 14   15200.0             F_Single\n",
       "2  1000001  P00087842      F  ...                  0    1422.0             F_Single\n",
       "\n",
       "[3 rows x 13 columns]"
      ]
     },
     "execution_count": 58,
     "metadata": {},
     "output_type": "execute_result"
    }
   ],
   "source": [
    "#Creating new column in the dataset \n",
    "df2 = df.copy()\n",
    "df2.Marital_Status = df2.Marital_Status.apply(lambda x: 'Married' if x==1 else 'Single')\n",
    "df2['Gender_MaritalStatus'] = df2.apply(lambda x:'%s_%s' % (x['Gender'],x['Marital_Status']),axis=1)\n",
    "df2.head(3)"
   ]
  },
  {
   "cell_type": "code",
   "execution_count": null,
   "metadata": {
    "colab": {
     "base_uri": "https://localhost:8080/"
    },
    "executionInfo": {
     "elapsed": 305,
     "status": "ok",
     "timestamp": 1638304064976,
     "user": {
      "displayName": "Eyad Gk",
      "photoUrl": "https://lh3.googleusercontent.com/a/default-user=s64",
      "userId": "03661387064598226500"
     },
     "user_tz": -120
    },
    "id": "7XVbzi_ch-pM",
    "outputId": "082578a8-622c-44a7-987d-9a550b88e93a"
   },
   "outputs": [
    {
     "data": {
      "text/plain": [
       "M_Single     30881\n",
       "M_Married    20692\n",
       "F_Single      9527\n",
       "F_Married     6659\n",
       "Name: Gender_MaritalStatus, dtype: int64"
      ]
     },
     "execution_count": 61,
     "metadata": {},
     "output_type": "execute_result"
    }
   ],
   "source": [
    "df2.Gender_MaritalStatus.value_counts()"
   ]
  },
  {
   "cell_type": "code",
   "execution_count": null,
   "metadata": {
    "colab": {
     "base_uri": "https://localhost:8080/",
     "height": 360
    },
    "executionInfo": {
     "elapsed": 861,
     "status": "ok",
     "timestamp": 1638304746235,
     "user": {
      "displayName": "Eyad Gk",
      "photoUrl": "https://lh3.googleusercontent.com/a/default-user=s64",
      "userId": "03661387064598226500"
     },
     "user_tz": -120
    },
    "id": "MvZXM9YAiE3F",
    "outputId": "db41d0a2-429b-4c02-b4e3-0638fa6dbbde"
   },
   "outputs": [
    {
     "data": {
      "image/png": "[encoded data removed]",
      "text/plain": [
       "<Figure size 1296x864 with 2 Axes>"
      ]
     },
     "metadata": {
      "needs_background": "light"
     },
     "output_type": "display_data"
    }
   ],
   "source": [
    "plt.figure(figsize=(18,12))\n",
    "\n",
    "plt.subplot(2,2,1)\n",
    "sns.countplot(x='Gender_MaritalStatus', data=df2);\n",
    "\n",
    "# Visuiliaze with pie chart to see the ratio\n",
    "plt.subplot(2,2,2)\n",
    "m_single = df2.Gender_MaritalStatus[df2.Gender_MaritalStatus == 'M_Single'].count()\n",
    "f_single = df2.Gender_MaritalStatus[df2.Gender_MaritalStatus == 'F_Single'].count()\n",
    "m_married = df2.Gender_MaritalStatus[df2.Gender_MaritalStatus == 'M_Married'].count()\n",
    "f_married = df2.Gender_MaritalStatus[df2.Gender_MaritalStatus == 'F_Married'].count()\n",
    "labels = ['Single Males', 'Single Females', 'Married Males', 'Married Females']\n",
    "\n",
    "plt.pie([m_single, f_single, m_married, f_married], labels=labels, autopct='%.2f%%', explode=(0.01,0.01,0.01,0.01))\n",
    "plt.show()"
   ]
  },
  {
   "cell_type": "markdown",
   "metadata": {
    "id": "XEXNoxm3iUyG"
   },
   "source": [
    "***- Single Males are more likely to visit the store***<br>\n",
    "***- Single female buyers are more in number than married ones***"
   ]
  },
  {
   "cell_type": "code",
   "execution_count": null,
   "metadata": {
    "colab": {
     "base_uri": "https://localhost:8080/",
     "height": 388
    },
    "executionInfo": {
     "elapsed": 803,
     "status": "ok",
     "timestamp": 1638304931978,
     "user": {
      "displayName": "Eyad Gk",
      "photoUrl": "https://lh3.googleusercontent.com/a/default-user=s64",
      "userId": "03661387064598226500"
     },
     "user_tz": -120
    },
    "id": "zydSijJLgt6t",
    "outputId": "eae73a47-9667-430e-92cd-f44b865fbcc0"
   },
   "outputs": [
    {
     "data": {
      "image/png": "[encoded data removed]",
      "text/plain": [
       "<Figure size 864x432 with 1 Axes>"
      ]
     },
     "metadata": {
      "needs_background": "light"
     },
     "output_type": "display_data"
    }
   ],
   "source": [
    "plt.figure(figsize=(12,6))\n",
    "sns.countplot(x='Age', hue='Gender_MaritalStatus', data=df2);"
   ]
  },
  {
   "cell_type": "markdown",
   "metadata": {
    "id": "oo4EI4JWidC1"
   },
   "source": [
    "***- Males (single and married) between the age group of 26-35 are major buyers***<br>\n",
    "***- Single Males Between the age 18-45 are more likely to visit the store***\n",
    "\n",
    "\n"
   ]
  },
  {
   "cell_type": "code",
   "execution_count": null,
   "metadata": {
    "colab": {
     "base_uri": "https://localhost:8080/",
     "height": 1000
    },
    "executionInfo": {
     "elapsed": 4171,
     "status": "ok",
     "timestamp": 1638305248328,
     "user": {
      "displayName": "Eyad Gk",
      "photoUrl": "https://lh3.googleusercontent.com/a/default-user=s64",
      "userId": "03661387064598226500"
     },
     "user_tz": -120
    },
    "id": "84qW7HBihz9R",
    "outputId": "c620db71-1f99-451c-f9f1-4cd508130d08"
   },
   "outputs": [
    {
     "data": {
      "text/plain": [
       "<Figure size 1440x864 with 0 Axes>"
      ]
     },
     "metadata": {},
     "output_type": "display_data"
    },
    {
     "data": {
      "image/png": "[encoded data removed]",
      "text/plain": [
       "<Figure size 360x360 with 1 Axes>"
      ]
     },
     "metadata": {
      "needs_background": "light"
     },
     "output_type": "display_data"
    },
    {
     "data": {
      "image/png": "[encoded data removed]",
      "text/plain": [
       "<Figure size 360x360 with 1 Axes>"
      ]
     },
     "metadata": {
      "needs_background": "light"
     },
     "output_type": "display_data"
    },
    {
     "data": {
      "image/png": "[encoded data removed]",
      "text/plain": [
       "<Figure size 360x360 with 1 Axes>"
      ]
     },
     "metadata": {
      "needs_background": "light"
     },
     "output_type": "display_data"
    },
    {
     "data": {
      "image/png": "[encoded data removed]",
      "text/plain": [
       "<Figure size 360x360 with 1 Axes>"
      ]
     },
     "metadata": {
      "needs_background": "light"
     },
     "output_type": "display_data"
    }
   ],
   "source": [
    "plt.figure(figsize =(20,12))\n",
    "\n",
    "sns.catplot(x='Gender_MaritalStatus', y='Purchase', data=df2, kind='boxen')\n",
    "\n",
    "ordr_occ =df2.groupby([\"Age\"]).mean().sort_values(by='Purchase',ascending=False).index\n",
    "sns.catplot(x='Age', y='Purchase', order=ordr_occ, data = df2, kind='bar')\n",
    "\n",
    "ordr_occ =df2.groupby([\"Occupation\"]).mean().sort_values(by='Purchase',ascending=False).index\n",
    "sns.catplot(x='Occupation', y='Purchase', order=ordr_occ, data=df2, kind='bar')\n",
    "\n",
    "\n",
    "sns.catplot(x='City_Category', y='Purchase', data=df2, kind='boxen')\n",
    "\n",
    "\n",
    "plt.show()\n"
   ]
  },
  {
   "cell_type": "markdown",
   "metadata": {
    "id": "_xGQrdhsmwS0"
   },
   "source": [
    "***- Males spend more than females***<br>\n",
    "***- Age factor : People who have earned more (spend more time working) and have saved enough money, tend to spend more***<br>\n",
    "***- Occupation codes 17, 12 and 15 appears to be earning more and accordingly spend more***<br>\n",
    "***- People living in Category C city appears to spend more in the mall***"
   ]
  },
  {
   "cell_type": "code",
   "execution_count": null,
   "metadata": {
    "colab": {
     "base_uri": "https://localhost:8080/",
     "height": 715
    },
    "executionInfo": {
     "elapsed": 1626,
     "status": "ok",
     "timestamp": 1638306480796,
     "user": {
      "displayName": "Eyad Gk",
      "photoUrl": "https://lh3.googleusercontent.com/a/default-user=s64",
      "userId": "03661387064598226500"
     },
     "user_tz": -120
    },
    "id": "Lq_T9MRLluck",
    "outputId": "18f6c15f-4b2a-487a-918f-f230fdd73424"
   },
   "outputs": [
    {
     "data": {
      "image/png": "[encoded data removed]",
      "text/plain": [
       "<Figure size 1152x864 with 1 Axes>"
      ]
     },
     "metadata": {
      "needs_background": "light"
     },
     "output_type": "display_data"
    }
   ],
   "source": [
    "plt.figure(figsize = (16,12))\n",
    "sns.barplot(x='City_Category',y='Purchase',hue='Gender_MaritalStatus',data = df2);"
   ]
  },
  {
   "cell_type": "markdown",
   "metadata": {
    "id": "BK6do7VarWkI"
   },
   "source": [
    "***- in City_Category A,B,C Males (Single or Married) spends more***<br>\n",
    "***- Females (Single or Married) in City Category C spends more***"
   ]
  },
  {
   "cell_type": "code",
   "execution_count": null,
   "metadata": {
    "colab": {
     "base_uri": "https://localhost:8080/",
     "height": 519
    },
    "executionInfo": {
     "elapsed": 2250,
     "status": "ok",
     "timestamp": 1638306364916,
     "user": {
      "displayName": "Eyad Gk",
      "photoUrl": "https://lh3.googleusercontent.com/a/default-user=s64",
      "userId": "03661387064598226500"
     },
     "user_tz": -120
    },
    "id": "Q_2cundenjTo",
    "outputId": "ba9c867d-a088-40e3-ad97-069292522d07"
   },
   "outputs": [
    {
     "data": {
      "image/png": "[encoded data removed]",
      "text/plain": [
       "<Figure size 1800x720 with 1 Axes>"
      ]
     },
     "metadata": {
      "needs_background": "light"
     },
     "output_type": "display_data"
    }
   ],
   "source": [
    "plt.figure(figsize = (25,10))\n",
    "sns.barplot(x='City_Category', y='Purchase',hue = 'Age',data = df);"
   ]
  },
  {
   "cell_type": "markdown",
   "metadata": {
    "id": "7VnhPMpDsIPs"
   },
   "source": [
    "***- In CITY_A more money spent by 51-55+ age group***<br>\n",
    "***- In CITY_B money spent by all age groups are similar***<br>\n",
    "***- In CITY_C more money spent by 56+ age group but overall more money sent by city_C.***"
   ]
  },
  {
   "cell_type": "code",
   "execution_count": null,
   "metadata": {
    "colab": {
     "base_uri": "https://localhost:8080/",
     "height": 732
    },
    "executionInfo": {
     "elapsed": 5028,
     "status": "ok",
     "timestamp": 1638307379333,
     "user": {
      "displayName": "Eyad Gk",
      "photoUrl": "https://lh3.googleusercontent.com/a/default-user=s64",
      "userId": "03661387064598226500"
     },
     "user_tz": -120
    },
    "id": "dOGDFbiEquO6",
    "outputId": "657455a9-a2f6-4128-bbc3-ea7c387d5ac6"
   },
   "outputs": [
    {
     "data": {
      "text/plain": [
       "<matplotlib.axes._subplots.AxesSubplot at 0x7f19fb2d0f50>"
      ]
     },
     "execution_count": 94,
     "metadata": {},
     "output_type": "execute_result"
    },
    {
     "data": {
      "image/png": "[encoded data removed]",
      "text/plain": [
       "<Figure size 1440x864 with 3 Axes>"
      ]
     },
     "metadata": {
      "needs_background": "light"
     },
     "output_type": "display_data"
    }
   ],
   "source": [
    "plt.figure(figsize=(20,12))\n",
    "\n",
    "plt.subplot(2,2,1)\n",
    "order = df.groupby('Product_Category_1').mean().sort_values(by='Purchase',ascending=False).index\n",
    "sns.barplot(x='Product_Category_1',y='Purchase', data=df, order=order)\n",
    "\n",
    "plt.subplot(2,2,2)\n",
    "order = df.groupby('Product_Category_2').mean().sort_values(by='Purchase',ascending=False).index\n",
    "sns.barplot(x='Product_Category_2', y='Purchase', data=df, order=order)\n",
    "\n",
    "plt.subplot(2,2,3)\n",
    "order = df.groupby('Product_Category_3').mean().sort_values(by='Purchase',ascending=False).index\n",
    "sns.barplot(x='Product_Category_3', y='Purchase', data=df, order=order)"
   ]
  },
  {
   "cell_type": "markdown",
   "metadata": {
    "id": "EAyc-RjMvtPl"
   },
   "source": [
    "**Data PreProcessing**"
   ]
  },
  {
   "cell_type": "code",
   "execution_count": null,
   "metadata": {
    "colab": {
     "base_uri": "https://localhost:8080/",
     "height": 296
    },
    "executionInfo": {
     "elapsed": 303,
     "status": "ok",
     "timestamp": 1638307657470,
     "user": {
      "displayName": "Eyad Gk",
      "photoUrl": "https://lh3.googleusercontent.com/a/default-user=s64",
      "userId": "03661387064598226500"
     },
     "user_tz": -120
    },
    "id": "nEKQwuKxvttS",
    "outputId": "7978400a-e30f-499f-e46c-634ba36bcb03"
   },
   "outputs": [
    {
     "data": {
      "text/html": [
       "<div>\n",
       "<style scoped>\n",
       "    .dataframe tbody tr th:only-of-type {\n",
       "        vertical-align: middle;\n",
       "    }\n",
       "\n",
       "    .dataframe tbody tr th {\n",
       "        vertical-align: top;\n",
       "    }\n",
       "\n",
       "    .dataframe thead th {\n",
       "        text-align: right;\n",
       "    }\n",
       "</style>\n",
       "<table border=\"1\" class=\"dataframe\">\n",
       "  <thead>\n",
       "    <tr style=\"text-align: right;\">\n",
       "      <th></th>\n",
       "      <th>User_ID</th>\n",
       "      <th>Product_ID</th>\n",
       "      <th>Gender</th>\n",
       "      <th>Age</th>\n",
       "      <th>Occupation</th>\n",
       "      <th>City_Category</th>\n",
       "      <th>Stay_In_Current_City_Years</th>\n",
       "      <th>Marital_Status</th>\n",
       "      <th>Product_Category_1</th>\n",
       "      <th>Product_Category_2</th>\n",
       "      <th>Product_Category_3</th>\n",
       "      <th>Purchase</th>\n",
       "    </tr>\n",
       "  </thead>\n",
       "  <tbody>\n",
       "    <tr>\n",
       "      <th>0</th>\n",
       "      <td>1000001</td>\n",
       "      <td>P00069042</td>\n",
       "      <td>F</td>\n",
       "      <td>0-17</td>\n",
       "      <td>10</td>\n",
       "      <td>A</td>\n",
       "      <td>2</td>\n",
       "      <td>0.0</td>\n",
       "      <td>3</td>\n",
       "      <td>0</td>\n",
       "      <td>0</td>\n",
       "      <td>8370.0</td>\n",
       "    </tr>\n",
       "    <tr>\n",
       "      <th>1</th>\n",
       "      <td>1000001</td>\n",
       "      <td>P00248942</td>\n",
       "      <td>F</td>\n",
       "      <td>0-17</td>\n",
       "      <td>10</td>\n",
       "      <td>A</td>\n",
       "      <td>2</td>\n",
       "      <td>0.0</td>\n",
       "      <td>1</td>\n",
       "      <td>6</td>\n",
       "      <td>14</td>\n",
       "      <td>15200.0</td>\n",
       "    </tr>\n",
       "    <tr>\n",
       "      <th>2</th>\n",
       "      <td>1000001</td>\n",
       "      <td>P00087842</td>\n",
       "      <td>F</td>\n",
       "      <td>0-17</td>\n",
       "      <td>10</td>\n",
       "      <td>A</td>\n",
       "      <td>2</td>\n",
       "      <td>0.0</td>\n",
       "      <td>12</td>\n",
       "      <td>0</td>\n",
       "      <td>0</td>\n",
       "      <td>1422.0</td>\n",
       "    </tr>\n",
       "    <tr>\n",
       "      <th>3</th>\n",
       "      <td>1000001</td>\n",
       "      <td>P00085442</td>\n",
       "      <td>F</td>\n",
       "      <td>0-17</td>\n",
       "      <td>10</td>\n",
       "      <td>A</td>\n",
       "      <td>2</td>\n",
       "      <td>0.0</td>\n",
       "      <td>12</td>\n",
       "      <td>14</td>\n",
       "      <td>0</td>\n",
       "      <td>1057.0</td>\n",
       "    </tr>\n",
       "    <tr>\n",
       "      <th>4</th>\n",
       "      <td>1000002</td>\n",
       "      <td>P00285442</td>\n",
       "      <td>M</td>\n",
       "      <td>55+</td>\n",
       "      <td>16</td>\n",
       "      <td>C</td>\n",
       "      <td>4+</td>\n",
       "      <td>0.0</td>\n",
       "      <td>8</td>\n",
       "      <td>0</td>\n",
       "      <td>0</td>\n",
       "      <td>7969.0</td>\n",
       "    </tr>\n",
       "  </tbody>\n",
       "</table>\n",
       "</div>"
      ],
      "text/plain": [
       "   User_ID Product_ID Gender  ... Product_Category_2  Product_Category_3 Purchase\n",
       "0  1000001  P00069042      F  ...                  0                   0   8370.0\n",
       "1  1000001  P00248942      F  ...                  6                  14  15200.0\n",
       "2  1000001  P00087842      F  ...                  0                   0   1422.0\n",
       "3  1000001  P00085442      F  ...                 14                   0   1057.0\n",
       "4  1000002  P00285442      M  ...                  0                   0   7969.0\n",
       "\n",
       "[5 rows x 12 columns]"
      ]
     },
     "execution_count": 99,
     "metadata": {},
     "output_type": "execute_result"
    }
   ],
   "source": [
    "df.head()"
   ]
  },
  {
   "cell_type": "code",
   "execution_count": null,
   "metadata": {
    "colab": {
     "base_uri": "https://localhost:8080/",
     "height": 143
    },
    "executionInfo": {
     "elapsed": 284,
     "status": "ok",
     "timestamp": 1638307901302,
     "user": {
      "displayName": "Eyad Gk",
      "photoUrl": "https://lh3.googleusercontent.com/a/default-user=s64",
      "userId": "03661387064598226500"
     },
     "user_tz": -120
    },
    "id": "TURKOkKmvvJD",
    "outputId": "ce219b9c-bf50-426e-eab3-ea5353768ab9"
   },
   "outputs": [
    {
     "data": {
      "text/html": [
       "<div>\n",
       "<style scoped>\n",
       "    .dataframe tbody tr th:only-of-type {\n",
       "        vertical-align: middle;\n",
       "    }\n",
       "\n",
       "    .dataframe tbody tr th {\n",
       "        vertical-align: top;\n",
       "    }\n",
       "\n",
       "    .dataframe thead th {\n",
       "        text-align: right;\n",
       "    }\n",
       "</style>\n",
       "<table border=\"1\" class=\"dataframe\">\n",
       "  <thead>\n",
       "    <tr style=\"text-align: right;\">\n",
       "      <th></th>\n",
       "      <th>Gender</th>\n",
       "      <th>Age</th>\n",
       "      <th>Occupation</th>\n",
       "      <th>City_Category</th>\n",
       "      <th>Stay_In_Current_City_Years</th>\n",
       "      <th>Marital_Status</th>\n",
       "      <th>Product_Category_1</th>\n",
       "      <th>Product_Category_2</th>\n",
       "      <th>Product_Category_3</th>\n",
       "      <th>Purchase</th>\n",
       "    </tr>\n",
       "  </thead>\n",
       "  <tbody>\n",
       "    <tr>\n",
       "      <th>0</th>\n",
       "      <td>F</td>\n",
       "      <td>0-17</td>\n",
       "      <td>10</td>\n",
       "      <td>A</td>\n",
       "      <td>2</td>\n",
       "      <td>0.0</td>\n",
       "      <td>3</td>\n",
       "      <td>0</td>\n",
       "      <td>0</td>\n",
       "      <td>8370.0</td>\n",
       "    </tr>\n",
       "    <tr>\n",
       "      <th>1</th>\n",
       "      <td>F</td>\n",
       "      <td>0-17</td>\n",
       "      <td>10</td>\n",
       "      <td>A</td>\n",
       "      <td>2</td>\n",
       "      <td>0.0</td>\n",
       "      <td>1</td>\n",
       "      <td>6</td>\n",
       "      <td>14</td>\n",
       "      <td>15200.0</td>\n",
       "    </tr>\n",
       "    <tr>\n",
       "      <th>2</th>\n",
       "      <td>F</td>\n",
       "      <td>0-17</td>\n",
       "      <td>10</td>\n",
       "      <td>A</td>\n",
       "      <td>2</td>\n",
       "      <td>0.0</td>\n",
       "      <td>12</td>\n",
       "      <td>0</td>\n",
       "      <td>0</td>\n",
       "      <td>1422.0</td>\n",
       "    </tr>\n",
       "  </tbody>\n",
       "</table>\n",
       "</div>"
      ],
      "text/plain": [
       "  Gender   Age  Occupation  ... Product_Category_2 Product_Category_3  Purchase\n",
       "0      F  0-17          10  ...                  0                  0    8370.0\n",
       "1      F  0-17          10  ...                  6                 14   15200.0\n",
       "2      F  0-17          10  ...                  0                  0    1422.0\n",
       "\n",
       "[3 rows x 10 columns]"
      ]
     },
     "execution_count": 100,
     "metadata": {},
     "output_type": "execute_result"
    }
   ],
   "source": [
    "df3 = df.copy()\n",
    "df3.drop(['User_ID', 'Product_ID'], axis=1, inplace=True) # non-important Featuers\n",
    "df3.head(3)"
   ]
  },
  {
   "cell_type": "markdown",
   "metadata": {
    "id": "CNfUzgEb0NQ4"
   },
   "source": [
    "***Apply Label Encoder on Categorical Columns that the values can be ordered***"
   ]
  },
  {
   "cell_type": "code",
   "execution_count": null,
   "metadata": {
    "id": "2HjumwwRzSPH"
   },
   "outputs": [],
   "source": [
    "encode_x = LabelEncoder()"
   ]
  },
  {
   "cell_type": "code",
   "execution_count": null,
   "metadata": {
    "colab": {
     "base_uri": "https://localhost:8080/",
     "height": 206
    },
    "executionInfo": {
     "elapsed": 623,
     "status": "ok",
     "timestamp": 1638308640138,
     "user": {
      "displayName": "Eyad Gk",
      "photoUrl": "https://lh3.googleusercontent.com/a/default-user=s64",
      "userId": "03661387064598226500"
     },
     "user_tz": -120
    },
    "id": "dXGsN_4Pwqp2",
    "outputId": "9aca4162-786e-4b2b-bd87-c9e0cbe3e2d0"
   },
   "outputs": [
    {
     "data": {
      "text/html": [
       "<div>\n",
       "<style scoped>\n",
       "    .dataframe tbody tr th:only-of-type {\n",
       "        vertical-align: middle;\n",
       "    }\n",
       "\n",
       "    .dataframe tbody tr th {\n",
       "        vertical-align: top;\n",
       "    }\n",
       "\n",
       "    .dataframe thead th {\n",
       "        text-align: right;\n",
       "    }\n",
       "</style>\n",
       "<table border=\"1\" class=\"dataframe\">\n",
       "  <thead>\n",
       "    <tr style=\"text-align: right;\">\n",
       "      <th></th>\n",
       "      <th>Gender</th>\n",
       "      <th>Age</th>\n",
       "      <th>Occupation</th>\n",
       "      <th>City_Category</th>\n",
       "      <th>Stay_In_Current_City_Years</th>\n",
       "      <th>Marital_Status</th>\n",
       "      <th>Product_Category_1</th>\n",
       "      <th>Product_Category_2</th>\n",
       "      <th>Product_Category_3</th>\n",
       "      <th>Purchase</th>\n",
       "    </tr>\n",
       "  </thead>\n",
       "  <tbody>\n",
       "    <tr>\n",
       "      <th>0</th>\n",
       "      <td>0</td>\n",
       "      <td>0</td>\n",
       "      <td>10</td>\n",
       "      <td>0</td>\n",
       "      <td>2</td>\n",
       "      <td>0.0</td>\n",
       "      <td>3</td>\n",
       "      <td>0</td>\n",
       "      <td>0</td>\n",
       "      <td>8370.0</td>\n",
       "    </tr>\n",
       "    <tr>\n",
       "      <th>1</th>\n",
       "      <td>0</td>\n",
       "      <td>0</td>\n",
       "      <td>10</td>\n",
       "      <td>0</td>\n",
       "      <td>2</td>\n",
       "      <td>0.0</td>\n",
       "      <td>1</td>\n",
       "      <td>6</td>\n",
       "      <td>14</td>\n",
       "      <td>15200.0</td>\n",
       "    </tr>\n",
       "    <tr>\n",
       "      <th>2</th>\n",
       "      <td>0</td>\n",
       "      <td>0</td>\n",
       "      <td>10</td>\n",
       "      <td>0</td>\n",
       "      <td>2</td>\n",
       "      <td>0.0</td>\n",
       "      <td>12</td>\n",
       "      <td>0</td>\n",
       "      <td>0</td>\n",
       "      <td>1422.0</td>\n",
       "    </tr>\n",
       "    <tr>\n",
       "      <th>3</th>\n",
       "      <td>0</td>\n",
       "      <td>0</td>\n",
       "      <td>10</td>\n",
       "      <td>0</td>\n",
       "      <td>2</td>\n",
       "      <td>0.0</td>\n",
       "      <td>12</td>\n",
       "      <td>14</td>\n",
       "      <td>0</td>\n",
       "      <td>1057.0</td>\n",
       "    </tr>\n",
       "    <tr>\n",
       "      <th>4</th>\n",
       "      <td>1</td>\n",
       "      <td>6</td>\n",
       "      <td>16</td>\n",
       "      <td>2</td>\n",
       "      <td>4+</td>\n",
       "      <td>0.0</td>\n",
       "      <td>8</td>\n",
       "      <td>0</td>\n",
       "      <td>0</td>\n",
       "      <td>7969.0</td>\n",
       "    </tr>\n",
       "  </tbody>\n",
       "</table>\n",
       "</div>"
      ],
      "text/plain": [
       "   Gender  Age  Occupation  ...  Product_Category_2 Product_Category_3  Purchase\n",
       "0       0    0          10  ...                   0                  0    8370.0\n",
       "1       0    0          10  ...                   6                 14   15200.0\n",
       "2       0    0          10  ...                   0                  0    1422.0\n",
       "3       0    0          10  ...                  14                  0    1057.0\n",
       "4       1    6          16  ...                   0                  0    7969.0\n",
       "\n",
       "[5 rows x 10 columns]"
      ]
     },
     "execution_count": 106,
     "metadata": {},
     "output_type": "execute_result"
    }
   ],
   "source": [
    "df3.Gender = encode_x.fit_transform(df3['Gender'])\n",
    "df3.Age = encode_x.fit_transform(df3['Age'])\n",
    "df3.City_Category = encode_x.fit_transform(df3['City_Category'])\n",
    "df3.head()"
   ]
  },
  {
   "cell_type": "code",
   "execution_count": null,
   "metadata": {
    "id": "GKgPZDGrzYy_"
   },
   "outputs": [],
   "source": [
    "df3.Marital_Status = df3.Marital_Status.astype('int32')"
   ]
  },
  {
   "cell_type": "code",
   "execution_count": null,
   "metadata": {
    "colab": {
     "base_uri": "https://localhost:8080/"
    },
    "executionInfo": {
     "elapsed": 248,
     "status": "ok",
     "timestamp": 1638308683115,
     "user": {
      "displayName": "Eyad Gk",
      "photoUrl": "https://lh3.googleusercontent.com/a/default-user=s64",
      "userId": "03661387064598226500"
     },
     "user_tz": -120
    },
    "id": "hAsFeNtszl5M",
    "outputId": "7cb7f23c-3d02-461d-f3d0-1d811d663754"
   },
   "outputs": [
    {
     "name": "stdout",
     "output_type": "stream",
     "text": [
      "<class 'pandas.core.frame.DataFrame'>\n",
      "Int64Index: 67759 entries, 0 to 67758\n",
      "Data columns (total 10 columns):\n",
      " #   Column                      Non-Null Count  Dtype  \n",
      "---  ------                      --------------  -----  \n",
      " 0   Gender                      67759 non-null  int64  \n",
      " 1   Age                         67759 non-null  int64  \n",
      " 2   Occupation                  67759 non-null  int32  \n",
      " 3   City_Category               67759 non-null  int64  \n",
      " 4   Stay_In_Current_City_Years  67759 non-null  object \n",
      " 5   Marital_Status              67759 non-null  int32  \n",
      " 6   Product_Category_1          67759 non-null  int32  \n",
      " 7   Product_Category_2          67759 non-null  int32  \n",
      " 8   Product_Category_3          67759 non-null  int32  \n",
      " 9   Purchase                    67759 non-null  float64\n",
      "dtypes: float64(1), int32(5), int64(3), object(1)\n",
      "memory usage: 6.9+ MB\n"
     ]
    }
   ],
   "source": [
    "df3.info()"
   ]
  },
  {
   "cell_type": "code",
   "execution_count": null,
   "metadata": {
    "colab": {
     "base_uri": "https://localhost:8080/"
    },
    "executionInfo": {
     "elapsed": 4,
     "status": "ok",
     "timestamp": 1638308759983,
     "user": {
      "displayName": "Eyad Gk",
      "photoUrl": "https://lh3.googleusercontent.com/a/default-user=s64",
      "userId": "03661387064598226500"
     },
     "user_tz": -120
    },
    "id": "vJ2OelPVzpr7",
    "outputId": "ce59eca1-8bb4-46cd-af6d-7edbe0c8618a"
   },
   "outputs": [
    {
     "data": {
      "text/plain": [
       "array(['2', '4+', '3', '1', '0'], dtype=object)"
      ]
     },
     "execution_count": 110,
     "metadata": {},
     "output_type": "execute_result"
    }
   ],
   "source": [
    "df3.Stay_In_Current_City_Years.unique()"
   ]
  },
  {
   "cell_type": "code",
   "execution_count": null,
   "metadata": {
    "colab": {
     "base_uri": "https://localhost:8080/",
     "height": 206
    },
    "executionInfo": {
     "elapsed": 258,
     "status": "ok",
     "timestamp": 1638308765458,
     "user": {
      "displayName": "Eyad Gk",
      "photoUrl": "https://lh3.googleusercontent.com/a/default-user=s64",
      "userId": "03661387064598226500"
     },
     "user_tz": -120
    },
    "id": "Uk_tQtoUzvzA",
    "outputId": "7ff0a124-3c5a-4fea-ea6c-57b630208d4c"
   },
   "outputs": [
    {
     "data": {
      "text/html": [
       "<div>\n",
       "<style scoped>\n",
       "    .dataframe tbody tr th:only-of-type {\n",
       "        vertical-align: middle;\n",
       "    }\n",
       "\n",
       "    .dataframe tbody tr th {\n",
       "        vertical-align: top;\n",
       "    }\n",
       "\n",
       "    .dataframe thead th {\n",
       "        text-align: right;\n",
       "    }\n",
       "</style>\n",
       "<table border=\"1\" class=\"dataframe\">\n",
       "  <thead>\n",
       "    <tr style=\"text-align: right;\">\n",
       "      <th></th>\n",
       "      <th>Gender</th>\n",
       "      <th>Age</th>\n",
       "      <th>Occupation</th>\n",
       "      <th>City_Category</th>\n",
       "      <th>Stay_In_Current_City_Years</th>\n",
       "      <th>Marital_Status</th>\n",
       "      <th>Product_Category_1</th>\n",
       "      <th>Product_Category_2</th>\n",
       "      <th>Product_Category_3</th>\n",
       "      <th>Purchase</th>\n",
       "    </tr>\n",
       "  </thead>\n",
       "  <tbody>\n",
       "    <tr>\n",
       "      <th>0</th>\n",
       "      <td>0</td>\n",
       "      <td>0</td>\n",
       "      <td>10</td>\n",
       "      <td>0</td>\n",
       "      <td>2</td>\n",
       "      <td>0</td>\n",
       "      <td>3</td>\n",
       "      <td>0</td>\n",
       "      <td>0</td>\n",
       "      <td>8370.0</td>\n",
       "    </tr>\n",
       "    <tr>\n",
       "      <th>1</th>\n",
       "      <td>0</td>\n",
       "      <td>0</td>\n",
       "      <td>10</td>\n",
       "      <td>0</td>\n",
       "      <td>2</td>\n",
       "      <td>0</td>\n",
       "      <td>1</td>\n",
       "      <td>6</td>\n",
       "      <td>14</td>\n",
       "      <td>15200.0</td>\n",
       "    </tr>\n",
       "    <tr>\n",
       "      <th>2</th>\n",
       "      <td>0</td>\n",
       "      <td>0</td>\n",
       "      <td>10</td>\n",
       "      <td>0</td>\n",
       "      <td>2</td>\n",
       "      <td>0</td>\n",
       "      <td>12</td>\n",
       "      <td>0</td>\n",
       "      <td>0</td>\n",
       "      <td>1422.0</td>\n",
       "    </tr>\n",
       "    <tr>\n",
       "      <th>3</th>\n",
       "      <td>0</td>\n",
       "      <td>0</td>\n",
       "      <td>10</td>\n",
       "      <td>0</td>\n",
       "      <td>2</td>\n",
       "      <td>0</td>\n",
       "      <td>12</td>\n",
       "      <td>14</td>\n",
       "      <td>0</td>\n",
       "      <td>1057.0</td>\n",
       "    </tr>\n",
       "    <tr>\n",
       "      <th>4</th>\n",
       "      <td>1</td>\n",
       "      <td>6</td>\n",
       "      <td>16</td>\n",
       "      <td>2</td>\n",
       "      <td>4</td>\n",
       "      <td>0</td>\n",
       "      <td>8</td>\n",
       "      <td>0</td>\n",
       "      <td>0</td>\n",
       "      <td>7969.0</td>\n",
       "    </tr>\n",
       "  </tbody>\n",
       "</table>\n",
       "</div>"
      ],
      "text/plain": [
       "   Gender  Age  Occupation  ...  Product_Category_2 Product_Category_3  Purchase\n",
       "0       0    0          10  ...                   0                  0    8370.0\n",
       "1       0    0          10  ...                   6                 14   15200.0\n",
       "2       0    0          10  ...                   0                  0    1422.0\n",
       "3       0    0          10  ...                  14                  0    1057.0\n",
       "4       1    6          16  ...                   0                  0    7969.0\n",
       "\n",
       "[5 rows x 10 columns]"
      ]
     },
     "execution_count": 111,
     "metadata": {},
     "output_type": "execute_result"
    }
   ],
   "source": [
    "df3.Stay_In_Current_City_Years = df3.Stay_In_Current_City_Years.replace('4+', 4)\n",
    "df3.head()"
   ]
  },
  {
   "cell_type": "code",
   "execution_count": null,
   "metadata": {
    "colab": {
     "base_uri": "https://localhost:8080/"
    },
    "executionInfo": {
     "elapsed": 790,
     "status": "ok",
     "timestamp": 1638308888119,
     "user": {
      "displayName": "Eyad Gk",
      "photoUrl": "https://lh3.googleusercontent.com/a/default-user=s64",
      "userId": "03661387064598226500"
     },
     "user_tz": -120
    },
    "id": "sAb-jeMMz9oa",
    "outputId": "d76b3238-e9d8-4f6d-8d6f-ec432d601d69"
   },
   "outputs": [
    {
     "data": {
      "text/plain": [
       "Purchase              1.000000\n",
       "Product_Category_3    0.287245\n",
       "City_Category         0.069453\n",
       "Gender                0.059833\n",
       "Product_Category_2    0.042987\n",
       "Age                   0.019551\n",
       "Occupation            0.014047\n",
       "Marital_Status        0.000806\n",
       "Product_Category_1   -0.320203\n",
       "Name: Purchase, dtype: float64"
      ]
     },
     "execution_count": 112,
     "metadata": {},
     "output_type": "execute_result"
    }
   ],
   "source": [
    "df3[df3.columns[0:]].corr()['Purchase'].sort_values(ascending=False)"
   ]
  },
  {
   "cell_type": "code",
   "execution_count": null,
   "metadata": {
    "colab": {
     "base_uri": "https://localhost:8080/",
     "height": 685
    },
    "executionInfo": {
     "elapsed": 1206,
     "status": "ok",
     "timestamp": 1638309079398,
     "user": {
      "displayName": "Eyad Gk",
      "photoUrl": "https://lh3.googleusercontent.com/a/default-user=s64",
      "userId": "03661387064598226500"
     },
     "user_tz": -120
    },
    "id": "S8UfcV6S0h1p",
    "outputId": "ededb3d3-3c89-4dd4-dede-e462d5b4cfff"
   },
   "outputs": [
    {
     "data": {
      "image/png": "[encoded data removed]",
      "text/plain": [
       "<Figure size 1008x720 with 2 Axes>"
      ]
     },
     "metadata": {
      "needs_background": "light"
     },
     "output_type": "display_data"
    }
   ],
   "source": [
    "plt.figure(figsize=(14,10))\n",
    "sns.heatmap(df3.corr(), cmap=\"YlGnBu\", cbar=True, annot=True, square=True, fmt='.2f', annot_kws={'size': 10});"
   ]
  },
  {
   "cell_type": "markdown",
   "metadata": {
    "id": "93gCGFkw1ZYg"
   },
   "source": [
    "**Based on the above visualizations and correlation matrix**<br><br>\n",
    "**Observations:**<br><br>\n",
    "***- there is 76.11% male and 23.89% Female buyers from the store*** <br>\n",
    "***- The age group between 26-35 years is the most popular in the store most purchases are made by people between 18 to 45 age group***<br>\n",
    "***- About 60% of the buyers are singels and 40% are married*** <br>\n",
    "***- we do not known to each occupation each number corresponds, is difficult to make any analysis.***<br>\n",
    "***- In Product_Category_1 we have more products in numbers 1,5,8***<br>\n",
    "***- In product_category_2 we have 8,2,14,15,16 products more but***<br>\n",
    "***- In Product_category_3 we have more products in numbers 5,14,15,16,17***<br>\n",
    "***- Peopole are more likely to come to the store and buy products only from product_Category_1 They are satisfied with this and do not buy products from other Categories***<br>\n",
    "***- Pepole from City_Category B are more likely to come to the store***<br>\n",
    "***- It can be observed that, as people who are new in the the current city, they tend to visit the store more frequently***<br>\n",
    "***- Single Males are more likely to visit the store***<br>\n",
    "***- Single female buyers are more in number than married ones***<br>\n",
    "***- Males (single and married) between the age group of 26-35 are major buyers***<br>\n",
    "***- Single Males Between the age 18-45 are more likely to visit the store***<br>\n",
    "***- Males spend more than females***<br>\n",
    "***- Age factor : People who have earned more (spend more time working) and have saved enough money, tend to spend more***<br>\n",
    "***- Occupation codes 17, 12 and 15 appears to be earning more and accordingly spend more***<br>\n",
    "***- People living in Category C city appears to spend more in the mall***<br>\n",
    "***- in City_Category A,B,C Males (Single or Married) spends more***<br>\n",
    "***- Females (Single or Married) in City Category C spends more***<br>\n",
    "***- In CITY_A more money spent by 51-55+ age group***<br>\n",
    "***- In CITY_B money spent by all age groups are similar***<br>\n",
    "***- In CITY_C more money spent by 56+ age group but overall more money sent by city_C.***<br><br><br>\n",
    "\n",
    "\n",
    "**Conclusion:** <br><br>\n",
    "**- it appears that the customer purchase behaviour mainly depends on 4 major factors:** <br>\n",
    "  **a. City Category (Category C and B are more in number and spend more on items)**<Br>\n",
    "  **b. Gender (Males (esp. unmarried) buy more than females)**<br>\n",
    "  **c. Occupation (codes 4,0,7 are regular buyers, codes 17,12,15 spend more on items)**<br>\n",
    "  **d. People Aged between 26-35 visit more and also spend more more on items\n",
    "By observing the dataset, it appears that column Product Category 1 is the 'main' category type and other 2 columns indicating Product categories (2 & 3) are sub categories of the product. As there were quite a few missing values in Product category2 and Product Category3 (replaced by 0s) no particular insight can be provided.**"
   ]
  },
  {
   "cell_type": "code",
   "execution_count": 151,
   "metadata": {
    "executionInfo": {
     "elapsed": 277,
     "status": "ok",
     "timestamp": 1638311839980,
     "user": {
      "displayName": "Eyad Gk",
      "photoUrl": "https://lh3.googleusercontent.com/a/default-user=s64",
      "userId": "03661387064598226500"
     },
     "user_tz": -120
    },
    "id": "vGC8ad06-bNr"
   },
   "outputs": [],
   "source": [
    "X = df3.drop('Purchase', axis=1)\n",
    "y = df3.Purchase"
   ]
  },
  {
   "cell_type": "code",
   "execution_count": 240,
   "metadata": {
    "executionInfo": {
     "elapsed": 37,
     "status": "ok",
     "timestamp": 1638316245362,
     "user": {
      "displayName": "Eyad Gk",
      "photoUrl": "https://lh3.googleusercontent.com/a/default-user=s64",
      "userId": "03661387064598226500"
     },
     "user_tz": -120
    },
    "id": "8lwNyJgl_sZd"
   },
   "outputs": [],
   "source": [
    "X_train, X_test, y_train, y_test = train_test_split(X,y, test_size=0.3, random_state=0)"
   ]
  },
  {
   "cell_type": "code",
   "execution_count": 243,
   "metadata": {
    "colab": {
     "base_uri": "https://localhost:8080/"
    },
    "executionInfo": {
     "elapsed": 22267,
     "status": "ok",
     "timestamp": 1638316305412,
     "user": {
      "displayName": "Eyad Gk",
      "photoUrl": "https://lh3.googleusercontent.com/a/default-user=s64",
      "userId": "03661387064598226500"
     },
     "user_tz": -120
    },
    "id": "tLtt2Hot_z3I",
    "outputId": "eccbb0bc-d9e9-401b-df03-5b2a9bc977b3"
   },
   "outputs": [
    {
     "data": {
      "text/plain": [
       "GradientBoostingRegressor(n_estimators=700)"
      ]
     },
     "execution_count": 243,
     "metadata": {},
     "output_type": "execute_result"
    }
   ],
   "source": [
    "model = GradientBoostingRegressor(n_estimators=700)\n",
    "model.fit(X_train, y_train)"
   ]
  },
  {
   "cell_type": "code",
   "execution_count": 244,
   "metadata": {
    "colab": {
     "base_uri": "https://localhost:8080/"
    },
    "executionInfo": {
     "elapsed": 42,
     "status": "ok",
     "timestamp": 1638316305414,
     "user": {
      "displayName": "Eyad Gk",
      "photoUrl": "https://lh3.googleusercontent.com/a/default-user=s64",
      "userId": "03661387064598226500"
     },
     "user_tz": -120
    },
    "id": "2pGzWMdV_6HA",
    "outputId": "516da765-a31e-41aa-f900-b3622ae6ec17"
   },
   "outputs": [
    {
     "data": {
      "text/plain": [
       "0.6573352070284377"
      ]
     },
     "execution_count": 244,
     "metadata": {},
     "output_type": "execute_result"
    }
   ],
   "source": [
    "model.score(X_test, y_test)"
   ]
  },
  {
   "cell_type": "code",
   "execution_count": 211,
   "metadata": {
    "executionInfo": {
     "elapsed": 9,
     "status": "ok",
     "timestamp": 1638316021524,
     "user": {
      "displayName": "Eyad Gk",
      "photoUrl": "https://lh3.googleusercontent.com/a/default-user=s64",
      "userId": "03661387064598226500"
     },
     "user_tz": -120
    },
    "id": "f-f1xfC9ODNz"
   },
   "outputs": [],
   "source": []
  }
 ],
 "metadata": {
  "colab": {
   "authorship_tag": "ABX9TyM3xdRw+G0DbdKbelLMgNej",
   "name": "Black Friday Analysis Project.ipynb",
   "provenance": []
  },
  "kernelspec": {
   "display_name": "Python 3",
   "language": "python",
   "name": "python3"
  },
  "language_info": {
   "codemirror_mode": {
    "name": "ipython",
    "version": 3
   },
   "file_extension": ".py",
   "mimetype": "text/x-python",
   "name": "python",
   "nbconvert_exporter": "python",
   "pygments_lexer": "ipython3",
   "version": "3.8.8"
  },
  "toc": {
   "base_numbering": 1,
   "nav_menu": {},
   "number_sections": true,
   "sideBar": true,
   "skip_h1_title": false,
   "title_cell": "Table of Contents",
   "title_sidebar": "Contents",
   "toc_cell": false,
   "toc_position": {},
   "toc_section_display": true,
   "toc_window_display": false
  }
 },
 "nbformat": 4,
 "nbformat_minor": 1
}
