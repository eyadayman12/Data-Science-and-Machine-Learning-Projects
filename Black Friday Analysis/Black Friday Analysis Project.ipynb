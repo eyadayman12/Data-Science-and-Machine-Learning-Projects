{
 "cells": [
  {
   "cell_type": "markdown",
   "metadata": {},
   "source": [
    "# Table of Contents\n",
    "<a id=\"toc\"></a>\n",
    "- [1. Project Description](#1)\n",
    "- [2. Import Necssaries Libraries](#2)\n",
    "- [3. Exploaring the Data](#3)\n",
    "- [4. Handling Missing Values](#4)\n",
    "- [5. EDA](#5)\n",
    "- [6. Apply Label Encoder](#6)\n",
    "- [7. Feature Engineering](#7)\n",
    "- [8. Feature Scaling](#8)\n",
    "- [9. Assign Training and Testing Variables](#9)\n",
    "- [10. Spliting the data into Training and Testing Data](#10)\n",
    "- [11. Modeling](#11)\n",
    "    - [11.1 Random Forest Regressor Model](#11.1)\n",
    "    - [11.2 Gradient Boosting Regressor Model](#11.2)\n",
    "    - [11.3 Bagging Regressor model](#11.3)\n",
    "    - [11.4 Linear Regression Model](#11.4)\n",
    "    - [11.5 SVR model](#11.5)\n",
    "    - [11.6 Decision Tree Regressor](#11.6)\n",
    "    - [11.7 XGBoost Regressor](#11.7)"
   ]
  },
  {
   "cell_type": "markdown",
   "metadata": {},
   "source": [
    "<a id='2'></a>\n",
    "# Import Necssaries Libraries"
   ]
  },
  {
   "cell_type": "code",
   "execution_count": 214,
   "metadata": {
    "ExecuteTime": {
     "end_time": "2022-01-06T18:29:05.500066Z",
     "start_time": "2022-01-06T18:29:05.488099Z"
    }
   },
   "outputs": [],
   "source": [
    "import pandas as pd\n",
    "import numpy as np\n",
    "from matplotlib import pyplot as plt\n",
    "%matplotlib inline\n",
    "import seaborn as sns\n",
    "\n",
    "from sklearn.preprocessing import LabelEncoder\n",
    "from sklearn.model_selection import train_test_split\n",
    "from sklearn.preprocessing import StandardScaler\n",
    "from sklearn.metrics import r2_score\n",
    "from sklearn.linear_model import LinearRegression\n",
    "from sklearn.model_selection import cross_val_score\n",
    "from sklearn.ensemble import RandomForestRegressor, GradientBoostingRegressor, BaggingRegressor\n",
    "from sklearn.svm import SVR\n",
    "from sklearn.tree import DecisionTreeRegressor\n",
    "from sklearn.neighbors import KNeighborsRegressor\n",
    "from xgboost import XGBRegressor\n",
    "\n",
    "import warnings\n",
    "warnings.filterwarnings('ignore')"
   ]
  },
  {
   "cell_type": "markdown",
   "metadata": {},
   "source": [
    "<a id='3'></a>\n",
    "# Exploaring the Data"
   ]
  },
  {
   "cell_type": "code",
   "execution_count": 215,
   "metadata": {
    "ExecuteTime": {
     "end_time": "2022-01-06T18:29:06.409247Z",
     "start_time": "2022-01-06T18:29:05.969391Z"
    },
    "id": "_eAA4IYfRKQ0"
   },
   "outputs": [],
   "source": [
    "df = pd.read_csv('BlackFriday.csv')"
   ]
  },
  {
   "cell_type": "code",
   "execution_count": 216,
   "metadata": {
    "ExecuteTime": {
     "end_time": "2022-01-06T18:29:06.425172Z",
     "start_time": "2022-01-06T18:29:06.410244Z"
    },
    "colab": {
     "base_uri": "https://localhost:8080/",
     "height": 296
    },
    "executionInfo": {
     "elapsed": 778,
     "status": "ok",
     "timestamp": 1638299669894,
     "user": {
      "displayName": "Eyad Gk",
      "photoUrl": "https://lh3.googleusercontent.com/a/default-user=s64",
      "userId": "03661387064598226500"
     },
     "user_tz": -120
    },
    "id": "yLHlmZ7tRQAG",
    "outputId": "c0b73ac3-44f0-4822-d772-6a703f7b50c9"
   },
   "outputs": [
    {
     "data": {
      "text/html": [
       "<div>\n",
       "<style scoped>\n",
       "    .dataframe tbody tr th:only-of-type {\n",
       "        vertical-align: middle;\n",
       "    }\n",
       "\n",
       "    .dataframe tbody tr th {\n",
       "        vertical-align: top;\n",
       "    }\n",
       "\n",
       "    .dataframe thead th {\n",
       "        text-align: right;\n",
       "    }\n",
       "</style>\n",
       "<table border=\"1\" class=\"dataframe\">\n",
       "  <thead>\n",
       "    <tr style=\"text-align: right;\">\n",
       "      <th></th>\n",
       "      <th>User_ID</th>\n",
       "      <th>Product_ID</th>\n",
       "      <th>Gender</th>\n",
       "      <th>Age</th>\n",
       "      <th>Occupation</th>\n",
       "      <th>City_Category</th>\n",
       "      <th>Stay_In_Current_City_Years</th>\n",
       "      <th>Marital_Status</th>\n",
       "      <th>Product_Category_1</th>\n",
       "      <th>Product_Category_2</th>\n",
       "      <th>Product_Category_3</th>\n",
       "      <th>Purchase</th>\n",
       "    </tr>\n",
       "  </thead>\n",
       "  <tbody>\n",
       "    <tr>\n",
       "      <th>0</th>\n",
       "      <td>1000001</td>\n",
       "      <td>P00069042</td>\n",
       "      <td>F</td>\n",
       "      <td>0-17</td>\n",
       "      <td>10</td>\n",
       "      <td>A</td>\n",
       "      <td>2</td>\n",
       "      <td>0</td>\n",
       "      <td>3</td>\n",
       "      <td>NaN</td>\n",
       "      <td>NaN</td>\n",
       "      <td>8370</td>\n",
       "    </tr>\n",
       "    <tr>\n",
       "      <th>1</th>\n",
       "      <td>1000001</td>\n",
       "      <td>P00248942</td>\n",
       "      <td>F</td>\n",
       "      <td>0-17</td>\n",
       "      <td>10</td>\n",
       "      <td>A</td>\n",
       "      <td>2</td>\n",
       "      <td>0</td>\n",
       "      <td>1</td>\n",
       "      <td>6.0</td>\n",
       "      <td>14.0</td>\n",
       "      <td>15200</td>\n",
       "    </tr>\n",
       "    <tr>\n",
       "      <th>2</th>\n",
       "      <td>1000001</td>\n",
       "      <td>P00087842</td>\n",
       "      <td>F</td>\n",
       "      <td>0-17</td>\n",
       "      <td>10</td>\n",
       "      <td>A</td>\n",
       "      <td>2</td>\n",
       "      <td>0</td>\n",
       "      <td>12</td>\n",
       "      <td>NaN</td>\n",
       "      <td>NaN</td>\n",
       "      <td>1422</td>\n",
       "    </tr>\n",
       "    <tr>\n",
       "      <th>3</th>\n",
       "      <td>1000001</td>\n",
       "      <td>P00085442</td>\n",
       "      <td>F</td>\n",
       "      <td>0-17</td>\n",
       "      <td>10</td>\n",
       "      <td>A</td>\n",
       "      <td>2</td>\n",
       "      <td>0</td>\n",
       "      <td>12</td>\n",
       "      <td>14.0</td>\n",
       "      <td>NaN</td>\n",
       "      <td>1057</td>\n",
       "    </tr>\n",
       "    <tr>\n",
       "      <th>4</th>\n",
       "      <td>1000002</td>\n",
       "      <td>P00285442</td>\n",
       "      <td>M</td>\n",
       "      <td>55+</td>\n",
       "      <td>16</td>\n",
       "      <td>C</td>\n",
       "      <td>4+</td>\n",
       "      <td>0</td>\n",
       "      <td>8</td>\n",
       "      <td>NaN</td>\n",
       "      <td>NaN</td>\n",
       "      <td>7969</td>\n",
       "    </tr>\n",
       "  </tbody>\n",
       "</table>\n",
       "</div>"
      ],
      "text/plain": [
       "   User_ID Product_ID Gender   Age  Occupation City_Category  \\\n",
       "0  1000001  P00069042      F  0-17          10             A   \n",
       "1  1000001  P00248942      F  0-17          10             A   \n",
       "2  1000001  P00087842      F  0-17          10             A   \n",
       "3  1000001  P00085442      F  0-17          10             A   \n",
       "4  1000002  P00285442      M   55+          16             C   \n",
       "\n",
       "  Stay_In_Current_City_Years  Marital_Status  Product_Category_1  \\\n",
       "0                          2               0                   3   \n",
       "1                          2               0                   1   \n",
       "2                          2               0                  12   \n",
       "3                          2               0                  12   \n",
       "4                         4+               0                   8   \n",
       "\n",
       "   Product_Category_2  Product_Category_3  Purchase  \n",
       "0                 NaN                 NaN      8370  \n",
       "1                 6.0                14.0     15200  \n",
       "2                 NaN                 NaN      1422  \n",
       "3                14.0                 NaN      1057  \n",
       "4                 NaN                 NaN      7969  "
      ]
     },
     "execution_count": 216,
     "metadata": {},
     "output_type": "execute_result"
    }
   ],
   "source": [
    "df.head()"
   ]
  },
  {
   "cell_type": "code",
   "execution_count": 217,
   "metadata": {
    "ExecuteTime": {
     "end_time": "2022-01-06T18:29:06.441128Z",
     "start_time": "2022-01-06T18:29:06.427167Z"
    },
    "colab": {
     "base_uri": "https://localhost:8080/"
    },
    "executionInfo": {
     "elapsed": 749,
     "status": "ok",
     "timestamp": 1638299705540,
     "user": {
      "displayName": "Eyad Gk",
      "photoUrl": "https://lh3.googleusercontent.com/a/default-user=s64",
      "userId": "03661387064598226500"
     },
     "user_tz": -120
    },
    "id": "b3FJVjVKRYrY",
    "outputId": "cfa4d9a2-00a9-49bf-cd9a-7185c2986fa4"
   },
   "outputs": [
    {
     "data": {
      "text/plain": [
       "(537577, 12)"
      ]
     },
     "execution_count": 217,
     "metadata": {},
     "output_type": "execute_result"
    }
   ],
   "source": [
    "df.shape"
   ]
  },
  {
   "cell_type": "code",
   "execution_count": 218,
   "metadata": {
    "ExecuteTime": {
     "end_time": "2022-01-06T18:29:06.645012Z",
     "start_time": "2022-01-06T18:29:06.629054Z"
    },
    "colab": {
     "base_uri": "https://localhost:8080/",
     "height": 296
    },
    "executionInfo": {
     "elapsed": 794,
     "status": "ok",
     "timestamp": 1638299709210,
     "user": {
      "displayName": "Eyad Gk",
      "photoUrl": "https://lh3.googleusercontent.com/a/default-user=s64",
      "userId": "03661387064598226500"
     },
     "user_tz": -120
    },
    "id": "psAlQbUjRQ2b",
    "outputId": "286f6061-8c05-4bdd-c714-f5079d9127c0"
   },
   "outputs": [
    {
     "data": {
      "text/html": [
       "<div>\n",
       "<style scoped>\n",
       "    .dataframe tbody tr th:only-of-type {\n",
       "        vertical-align: middle;\n",
       "    }\n",
       "\n",
       "    .dataframe tbody tr th {\n",
       "        vertical-align: top;\n",
       "    }\n",
       "\n",
       "    .dataframe thead th {\n",
       "        text-align: right;\n",
       "    }\n",
       "</style>\n",
       "<table border=\"1\" class=\"dataframe\">\n",
       "  <thead>\n",
       "    <tr style=\"text-align: right;\">\n",
       "      <th></th>\n",
       "      <th>User_ID</th>\n",
       "      <th>Product_ID</th>\n",
       "      <th>Gender</th>\n",
       "      <th>Age</th>\n",
       "      <th>Occupation</th>\n",
       "      <th>City_Category</th>\n",
       "      <th>Stay_In_Current_City_Years</th>\n",
       "      <th>Marital_Status</th>\n",
       "      <th>Product_Category_1</th>\n",
       "      <th>Product_Category_2</th>\n",
       "      <th>Product_Category_3</th>\n",
       "      <th>Purchase</th>\n",
       "    </tr>\n",
       "  </thead>\n",
       "  <tbody>\n",
       "    <tr>\n",
       "      <th>537572</th>\n",
       "      <td>1004737</td>\n",
       "      <td>P00193542</td>\n",
       "      <td>M</td>\n",
       "      <td>36-45</td>\n",
       "      <td>16</td>\n",
       "      <td>C</td>\n",
       "      <td>1</td>\n",
       "      <td>0</td>\n",
       "      <td>1</td>\n",
       "      <td>2.0</td>\n",
       "      <td>NaN</td>\n",
       "      <td>11664</td>\n",
       "    </tr>\n",
       "    <tr>\n",
       "      <th>537573</th>\n",
       "      <td>1004737</td>\n",
       "      <td>P00111142</td>\n",
       "      <td>M</td>\n",
       "      <td>36-45</td>\n",
       "      <td>16</td>\n",
       "      <td>C</td>\n",
       "      <td>1</td>\n",
       "      <td>0</td>\n",
       "      <td>1</td>\n",
       "      <td>15.0</td>\n",
       "      <td>16.0</td>\n",
       "      <td>19196</td>\n",
       "    </tr>\n",
       "    <tr>\n",
       "      <th>537574</th>\n",
       "      <td>1004737</td>\n",
       "      <td>P00345942</td>\n",
       "      <td>M</td>\n",
       "      <td>36-45</td>\n",
       "      <td>16</td>\n",
       "      <td>C</td>\n",
       "      <td>1</td>\n",
       "      <td>0</td>\n",
       "      <td>8</td>\n",
       "      <td>15.0</td>\n",
       "      <td>NaN</td>\n",
       "      <td>8043</td>\n",
       "    </tr>\n",
       "    <tr>\n",
       "      <th>537575</th>\n",
       "      <td>1004737</td>\n",
       "      <td>P00285842</td>\n",
       "      <td>M</td>\n",
       "      <td>36-45</td>\n",
       "      <td>16</td>\n",
       "      <td>C</td>\n",
       "      <td>1</td>\n",
       "      <td>0</td>\n",
       "      <td>5</td>\n",
       "      <td>NaN</td>\n",
       "      <td>NaN</td>\n",
       "      <td>7172</td>\n",
       "    </tr>\n",
       "    <tr>\n",
       "      <th>537576</th>\n",
       "      <td>1004737</td>\n",
       "      <td>P00118242</td>\n",
       "      <td>M</td>\n",
       "      <td>36-45</td>\n",
       "      <td>16</td>\n",
       "      <td>C</td>\n",
       "      <td>1</td>\n",
       "      <td>0</td>\n",
       "      <td>5</td>\n",
       "      <td>8.0</td>\n",
       "      <td>NaN</td>\n",
       "      <td>6875</td>\n",
       "    </tr>\n",
       "  </tbody>\n",
       "</table>\n",
       "</div>"
      ],
      "text/plain": [
       "        User_ID Product_ID Gender    Age  Occupation City_Category  \\\n",
       "537572  1004737  P00193542      M  36-45          16             C   \n",
       "537573  1004737  P00111142      M  36-45          16             C   \n",
       "537574  1004737  P00345942      M  36-45          16             C   \n",
       "537575  1004737  P00285842      M  36-45          16             C   \n",
       "537576  1004737  P00118242      M  36-45          16             C   \n",
       "\n",
       "       Stay_In_Current_City_Years  Marital_Status  Product_Category_1  \\\n",
       "537572                          1               0                   1   \n",
       "537573                          1               0                   1   \n",
       "537574                          1               0                   8   \n",
       "537575                          1               0                   5   \n",
       "537576                          1               0                   5   \n",
       "\n",
       "        Product_Category_2  Product_Category_3  Purchase  \n",
       "537572                 2.0                 NaN     11664  \n",
       "537573                15.0                16.0     19196  \n",
       "537574                15.0                 NaN      8043  \n",
       "537575                 NaN                 NaN      7172  \n",
       "537576                 8.0                 NaN      6875  "
      ]
     },
     "execution_count": 218,
     "metadata": {},
     "output_type": "execute_result"
    }
   ],
   "source": [
    "df.tail()"
   ]
  },
  {
   "cell_type": "code",
   "execution_count": 219,
   "metadata": {
    "ExecuteTime": {
     "end_time": "2022-01-06T18:29:06.882730Z",
     "start_time": "2022-01-06T18:29:06.784011Z"
    },
    "colab": {
     "base_uri": "https://localhost:8080/"
    },
    "executionInfo": {
     "elapsed": 688,
     "status": "ok",
     "timestamp": 1638299725138,
     "user": {
      "displayName": "Eyad Gk",
      "photoUrl": "https://lh3.googleusercontent.com/a/default-user=s64",
      "userId": "03661387064598226500"
     },
     "user_tz": -120
    },
    "id": "V7VqrferRWs_",
    "outputId": "f5216c82-7c4b-4765-c4c6-6b967dfe8b44"
   },
   "outputs": [
    {
     "name": "stdout",
     "output_type": "stream",
     "text": [
      "<class 'pandas.core.frame.DataFrame'>\n",
      "RangeIndex: 537577 entries, 0 to 537576\n",
      "Data columns (total 12 columns):\n",
      " #   Column                      Non-Null Count   Dtype  \n",
      "---  ------                      --------------   -----  \n",
      " 0   User_ID                     537577 non-null  int64  \n",
      " 1   Product_ID                  537577 non-null  object \n",
      " 2   Gender                      537577 non-null  object \n",
      " 3   Age                         537577 non-null  object \n",
      " 4   Occupation                  537577 non-null  int64  \n",
      " 5   City_Category               537577 non-null  object \n",
      " 6   Stay_In_Current_City_Years  537577 non-null  object \n",
      " 7   Marital_Status              537577 non-null  int64  \n",
      " 8   Product_Category_1          537577 non-null  int64  \n",
      " 9   Product_Category_2          370591 non-null  float64\n",
      " 10  Product_Category_3          164278 non-null  float64\n",
      " 11  Purchase                    537577 non-null  int64  \n",
      "dtypes: float64(2), int64(5), object(5)\n",
      "memory usage: 49.2+ MB\n"
     ]
    }
   ],
   "source": [
    "df.info()"
   ]
  },
  {
   "cell_type": "code",
   "execution_count": 220,
   "metadata": {
    "ExecuteTime": {
     "end_time": "2022-01-06T18:29:07.101698Z",
     "start_time": "2022-01-06T18:29:06.980513Z"
    },
    "colab": {
     "base_uri": "https://localhost:8080/",
     "height": 300
    },
    "executionInfo": {
     "elapsed": 594,
     "status": "ok",
     "timestamp": 1638299750570,
     "user": {
      "displayName": "Eyad Gk",
      "photoUrl": "https://lh3.googleusercontent.com/a/default-user=s64",
      "userId": "03661387064598226500"
     },
     "user_tz": -120
    },
    "id": "G6vfoYZLReSr",
    "outputId": "0e9195e0-c0d6-4bc9-9f8e-c4a067d8bc7e"
   },
   "outputs": [
    {
     "data": {
      "text/html": [
       "<div>\n",
       "<style scoped>\n",
       "    .dataframe tbody tr th:only-of-type {\n",
       "        vertical-align: middle;\n",
       "    }\n",
       "\n",
       "    .dataframe tbody tr th {\n",
       "        vertical-align: top;\n",
       "    }\n",
       "\n",
       "    .dataframe thead th {\n",
       "        text-align: right;\n",
       "    }\n",
       "</style>\n",
       "<table border=\"1\" class=\"dataframe\">\n",
       "  <thead>\n",
       "    <tr style=\"text-align: right;\">\n",
       "      <th></th>\n",
       "      <th>User_ID</th>\n",
       "      <th>Occupation</th>\n",
       "      <th>Marital_Status</th>\n",
       "      <th>Product_Category_1</th>\n",
       "      <th>Product_Category_2</th>\n",
       "      <th>Product_Category_3</th>\n",
       "      <th>Purchase</th>\n",
       "    </tr>\n",
       "  </thead>\n",
       "  <tbody>\n",
       "    <tr>\n",
       "      <th>count</th>\n",
       "      <td>5.375770e+05</td>\n",
       "      <td>537577.00000</td>\n",
       "      <td>537577.000000</td>\n",
       "      <td>537577.000000</td>\n",
       "      <td>370591.000000</td>\n",
       "      <td>164278.000000</td>\n",
       "      <td>537577.000000</td>\n",
       "    </tr>\n",
       "    <tr>\n",
       "      <th>mean</th>\n",
       "      <td>1.002992e+06</td>\n",
       "      <td>8.08271</td>\n",
       "      <td>0.408797</td>\n",
       "      <td>5.295546</td>\n",
       "      <td>9.842144</td>\n",
       "      <td>12.669840</td>\n",
       "      <td>9333.859853</td>\n",
       "    </tr>\n",
       "    <tr>\n",
       "      <th>std</th>\n",
       "      <td>1.714393e+03</td>\n",
       "      <td>6.52412</td>\n",
       "      <td>0.491612</td>\n",
       "      <td>3.750701</td>\n",
       "      <td>5.087259</td>\n",
       "      <td>4.124341</td>\n",
       "      <td>4981.022133</td>\n",
       "    </tr>\n",
       "    <tr>\n",
       "      <th>min</th>\n",
       "      <td>1.000001e+06</td>\n",
       "      <td>0.00000</td>\n",
       "      <td>0.000000</td>\n",
       "      <td>1.000000</td>\n",
       "      <td>2.000000</td>\n",
       "      <td>3.000000</td>\n",
       "      <td>185.000000</td>\n",
       "    </tr>\n",
       "    <tr>\n",
       "      <th>25%</th>\n",
       "      <td>1.001495e+06</td>\n",
       "      <td>2.00000</td>\n",
       "      <td>0.000000</td>\n",
       "      <td>1.000000</td>\n",
       "      <td>5.000000</td>\n",
       "      <td>9.000000</td>\n",
       "      <td>5866.000000</td>\n",
       "    </tr>\n",
       "    <tr>\n",
       "      <th>50%</th>\n",
       "      <td>1.003031e+06</td>\n",
       "      <td>7.00000</td>\n",
       "      <td>0.000000</td>\n",
       "      <td>5.000000</td>\n",
       "      <td>9.000000</td>\n",
       "      <td>14.000000</td>\n",
       "      <td>8062.000000</td>\n",
       "    </tr>\n",
       "    <tr>\n",
       "      <th>75%</th>\n",
       "      <td>1.004417e+06</td>\n",
       "      <td>14.00000</td>\n",
       "      <td>1.000000</td>\n",
       "      <td>8.000000</td>\n",
       "      <td>15.000000</td>\n",
       "      <td>16.000000</td>\n",
       "      <td>12073.000000</td>\n",
       "    </tr>\n",
       "    <tr>\n",
       "      <th>max</th>\n",
       "      <td>1.006040e+06</td>\n",
       "      <td>20.00000</td>\n",
       "      <td>1.000000</td>\n",
       "      <td>18.000000</td>\n",
       "      <td>18.000000</td>\n",
       "      <td>18.000000</td>\n",
       "      <td>23961.000000</td>\n",
       "    </tr>\n",
       "  </tbody>\n",
       "</table>\n",
       "</div>"
      ],
      "text/plain": [
       "            User_ID    Occupation  Marital_Status  Product_Category_1  \\\n",
       "count  5.375770e+05  537577.00000   537577.000000       537577.000000   \n",
       "mean   1.002992e+06       8.08271        0.408797            5.295546   \n",
       "std    1.714393e+03       6.52412        0.491612            3.750701   \n",
       "min    1.000001e+06       0.00000        0.000000            1.000000   \n",
       "25%    1.001495e+06       2.00000        0.000000            1.000000   \n",
       "50%    1.003031e+06       7.00000        0.000000            5.000000   \n",
       "75%    1.004417e+06      14.00000        1.000000            8.000000   \n",
       "max    1.006040e+06      20.00000        1.000000           18.000000   \n",
       "\n",
       "       Product_Category_2  Product_Category_3       Purchase  \n",
       "count       370591.000000       164278.000000  537577.000000  \n",
       "mean             9.842144           12.669840    9333.859853  \n",
       "std              5.087259            4.124341    4981.022133  \n",
       "min              2.000000            3.000000     185.000000  \n",
       "25%              5.000000            9.000000    5866.000000  \n",
       "50%              9.000000           14.000000    8062.000000  \n",
       "75%             15.000000           16.000000   12073.000000  \n",
       "max             18.000000           18.000000   23961.000000  "
      ]
     },
     "execution_count": 220,
     "metadata": {},
     "output_type": "execute_result"
    }
   ],
   "source": [
    "df.describe()"
   ]
  },
  {
   "cell_type": "code",
   "execution_count": 221,
   "metadata": {
    "ExecuteTime": {
     "end_time": "2022-01-06T18:29:07.321054Z",
     "start_time": "2022-01-06T18:29:07.222846Z"
    },
    "colab": {
     "base_uri": "https://localhost:8080/"
    },
    "executionInfo": {
     "elapsed": 8,
     "status": "ok",
     "timestamp": 1638299855511,
     "user": {
      "displayName": "Eyad Gk",
      "photoUrl": "https://lh3.googleusercontent.com/a/default-user=s64",
      "userId": "03661387064598226500"
     },
     "user_tz": -120
    },
    "id": "epOCSIKVRkb-",
    "outputId": "33f58b5a-ae82-4e39-a291-e44191c16675"
   },
   "outputs": [
    {
     "data": {
      "text/plain": [
       "Index(['Product_Category_2', 'Product_Category_3'], dtype='object')"
      ]
     },
     "execution_count": 221,
     "metadata": {},
     "output_type": "execute_result"
    }
   ],
   "source": [
    "df.columns[df.isna().any()]"
   ]
  },
  {
   "cell_type": "markdown",
   "metadata": {},
   "source": [
    "<a id='4'></a>\n",
    "# Handling Missing Values"
   ]
  },
  {
   "cell_type": "code",
   "execution_count": 222,
   "metadata": {
    "ExecuteTime": {
     "end_time": "2022-01-06T18:29:07.785044Z",
     "start_time": "2022-01-06T18:29:07.689977Z"
    },
    "colab": {
     "base_uri": "https://localhost:8080/"
    },
    "executionInfo": {
     "elapsed": 633,
     "status": "ok",
     "timestamp": 1638299887024,
     "user": {
      "displayName": "Eyad Gk",
      "photoUrl": "https://lh3.googleusercontent.com/a/default-user=s64",
      "userId": "03661387064598226500"
     },
     "user_tz": -120
    },
    "id": "E-zjJNNvRzR-",
    "outputId": "f6e7e558-a1ca-4780-eaec-1a6fa83847b5"
   },
   "outputs": [
    {
     "data": {
      "text/plain": [
       "User_ID                            0\n",
       "Product_ID                         0\n",
       "Gender                             0\n",
       "Age                                0\n",
       "Occupation                         0\n",
       "City_Category                      0\n",
       "Stay_In_Current_City_Years         0\n",
       "Marital_Status                     0\n",
       "Product_Category_1                 0\n",
       "Product_Category_2            166986\n",
       "Product_Category_3            373299\n",
       "Purchase                           0\n",
       "dtype: int64"
      ]
     },
     "execution_count": 222,
     "metadata": {},
     "output_type": "execute_result"
    }
   ],
   "source": [
    "df.isnull().sum()"
   ]
  },
  {
   "cell_type": "code",
   "execution_count": 223,
   "metadata": {
    "ExecuteTime": {
     "end_time": "2022-01-06T18:29:07.973276Z",
     "start_time": "2022-01-06T18:29:07.958315Z"
    },
    "id": "MkNeMAh5SFtB"
   },
   "outputs": [],
   "source": [
    "df.Product_Category_2.fillna(0, inplace=True)\n",
    "df.Product_Category_3.fillna(0, inplace=True)"
   ]
  },
  {
   "cell_type": "code",
   "execution_count": 224,
   "metadata": {
    "ExecuteTime": {
     "end_time": "2022-01-06T18:29:08.317719Z",
     "start_time": "2022-01-06T18:29:08.200862Z"
    },
    "colab": {
     "base_uri": "https://localhost:8080/"
    },
    "executionInfo": {
     "elapsed": 431,
     "status": "ok",
     "timestamp": 1638299986778,
     "user": {
      "displayName": "Eyad Gk",
      "photoUrl": "https://lh3.googleusercontent.com/a/default-user=s64",
      "userId": "03661387064598226500"
     },
     "user_tz": -120
    },
    "id": "nhRTyomUSdI1",
    "outputId": "f4582236-b673-40d5-b25d-532f29f495fb"
   },
   "outputs": [
    {
     "data": {
      "text/plain": [
       "User_ID                       0\n",
       "Product_ID                    0\n",
       "Gender                        0\n",
       "Age                           0\n",
       "Occupation                    0\n",
       "City_Category                 0\n",
       "Stay_In_Current_City_Years    0\n",
       "Marital_Status                0\n",
       "Product_Category_1            0\n",
       "Product_Category_2            0\n",
       "Product_Category_3            0\n",
       "Purchase                      0\n",
       "dtype: int64"
      ]
     },
     "execution_count": 224,
     "metadata": {},
     "output_type": "execute_result"
    }
   ],
   "source": [
    "df.isnull().sum()"
   ]
  },
  {
   "cell_type": "code",
   "execution_count": 225,
   "metadata": {
    "ExecuteTime": {
     "end_time": "2022-01-06T18:29:08.459650Z",
     "start_time": "2022-01-06T18:29:08.446879Z"
    },
    "colab": {
     "base_uri": "https://localhost:8080/"
    },
    "executionInfo": {
     "elapsed": 650,
     "status": "ok",
     "timestamp": 1638300011073,
     "user": {
      "displayName": "Eyad Gk",
      "photoUrl": "https://lh3.googleusercontent.com/a/default-user=s64",
      "userId": "03661387064598226500"
     },
     "user_tz": -120
    },
    "id": "MQ0s2KE-SidP",
    "outputId": "31ec0db2-99f4-4d16-cfe8-2adb494343c2"
   },
   "outputs": [
    {
     "data": {
      "text/plain": [
       "(537577, 12)"
      ]
     },
     "execution_count": 225,
     "metadata": {},
     "output_type": "execute_result"
    }
   ],
   "source": [
    "df.shape"
   ]
  },
  {
   "cell_type": "code",
   "execution_count": 226,
   "metadata": {
    "ExecuteTime": {
     "end_time": "2022-01-06T18:29:08.974648Z",
     "start_time": "2022-01-06T18:29:08.670465Z"
    },
    "colab": {
     "base_uri": "https://localhost:8080/"
    },
    "executionInfo": {
     "elapsed": 2484,
     "status": "ok",
     "timestamp": 1638300027230,
     "user": {
      "displayName": "Eyad Gk",
      "photoUrl": "https://lh3.googleusercontent.com/a/default-user=s64",
      "userId": "03661387064598226500"
     },
     "user_tz": -120
    },
    "id": "1xZ3Fm4vSkLe",
    "outputId": "3ab56104-85c9-43f5-a37c-61ec98a48b7b"
   },
   "outputs": [
    {
     "data": {
      "text/plain": [
       "User_ID                        5891\n",
       "Product_ID                     3623\n",
       "Gender                            2\n",
       "Age                               7\n",
       "Occupation                       21\n",
       "City_Category                     3\n",
       "Stay_In_Current_City_Years        5\n",
       "Marital_Status                    2\n",
       "Product_Category_1               18\n",
       "Product_Category_2               18\n",
       "Product_Category_3               16\n",
       "Purchase                      17959\n",
       "dtype: int64"
      ]
     },
     "execution_count": 226,
     "metadata": {},
     "output_type": "execute_result"
    }
   ],
   "source": [
    "df.nunique()"
   ]
  },
  {
   "cell_type": "markdown",
   "metadata": {
    "id": "oR8SR39-Sy6n"
   },
   "source": [
    "<a id='5'></a>\n",
    "# EDA"
   ]
  },
  {
   "cell_type": "code",
   "execution_count": 227,
   "metadata": {
    "ExecuteTime": {
     "end_time": "2022-01-06T18:29:09.242092Z",
     "start_time": "2022-01-06T18:29:09.219155Z"
    },
    "colab": {
     "base_uri": "https://localhost:8080/"
    },
    "executionInfo": {
     "elapsed": 512,
     "status": "ok",
     "timestamp": 1638301205807,
     "user": {
      "displayName": "Eyad Gk",
      "photoUrl": "https://lh3.googleusercontent.com/a/default-user=s64",
      "userId": "03661387064598226500"
     },
     "user_tz": -120
    },
    "id": "4n4uTQRbW_9v",
    "outputId": "afd42f5b-4fdf-45f4-8eb1-9404bc1dda28"
   },
   "outputs": [
    {
     "data": {
      "text/plain": [
       "dtype('int32')"
      ]
     },
     "execution_count": 227,
     "metadata": {},
     "output_type": "execute_result"
    }
   ],
   "source": [
    "df.Occupation = df.Occupation.astype('int32')\n",
    "df.Occupation.dtypes"
   ]
  },
  {
   "cell_type": "code",
   "execution_count": 228,
   "metadata": {
    "ExecuteTime": {
     "end_time": "2022-01-06T18:29:09.492281Z",
     "start_time": "2022-01-06T18:29:09.468347Z"
    },
    "id": "fX9b5coAZoDj"
   },
   "outputs": [],
   "source": [
    "df.Product_Category_1 = df.Product_Category_1.astype('int32')\n",
    "df.Product_Category_2 = df.Product_Category_2.astype('int32')\n",
    "df.Product_Category_3 = df.Product_Category_3.astype('int32')"
   ]
  },
  {
   "cell_type": "code",
   "execution_count": 229,
   "metadata": {
    "ExecuteTime": {
     "end_time": "2022-01-06T18:29:09.771796Z",
     "start_time": "2022-01-06T18:29:09.726917Z"
    },
    "colab": {
     "base_uri": "https://localhost:8080/"
    },
    "executionInfo": {
     "elapsed": 10,
     "status": "ok",
     "timestamp": 1638303423026,
     "user": {
      "displayName": "Eyad Gk",
      "photoUrl": "https://lh3.googleusercontent.com/a/default-user=s64",
      "userId": "03661387064598226500"
     },
     "user_tz": -120
    },
    "id": "9d_sA8qJfjlh",
    "outputId": "21b1251c-088f-4242-e7f8-467c448bcd85"
   },
   "outputs": [
    {
     "data": {
      "text/plain": [
       "M    405380\n",
       "F    132197\n",
       "Name: Gender, dtype: int64"
      ]
     },
     "execution_count": 229,
     "metadata": {},
     "output_type": "execute_result"
    }
   ],
   "source": [
    "df.Gender.value_counts()"
   ]
  },
  {
   "cell_type": "code",
   "execution_count": 230,
   "metadata": {
    "ExecuteTime": {
     "end_time": "2022-01-06T18:29:09.992588Z",
     "start_time": "2022-01-06T18:29:09.972641Z"
    },
    "colab": {
     "base_uri": "https://localhost:8080/"
    },
    "executionInfo": {
     "elapsed": 266,
     "status": "ok",
     "timestamp": 1638303437470,
     "user": {
      "displayName": "Eyad Gk",
      "photoUrl": "https://lh3.googleusercontent.com/a/default-user=s64",
      "userId": "03661387064598226500"
     },
     "user_tz": -120
    },
    "id": "rwLGTxvnfmik",
    "outputId": "6293dd17-4efa-4940-8ed1-98c5eaaf3630"
   },
   "outputs": [
    {
     "data": {
      "text/plain": [
       "0    317817\n",
       "1    219760\n",
       "Name: Marital_Status, dtype: int64"
      ]
     },
     "execution_count": 230,
     "metadata": {},
     "output_type": "execute_result"
    }
   ],
   "source": [
    "df.Marital_Status.value_counts()"
   ]
  },
  {
   "cell_type": "code",
   "execution_count": 231,
   "metadata": {
    "ExecuteTime": {
     "end_time": "2022-01-06T18:29:10.259239Z",
     "start_time": "2022-01-06T18:29:10.213360Z"
    },
    "colab": {
     "base_uri": "https://localhost:8080/"
    },
    "executionInfo": {
     "elapsed": 335,
     "status": "ok",
     "timestamp": 1638303454843,
     "user": {
      "displayName": "Eyad Gk",
      "photoUrl": "https://lh3.googleusercontent.com/a/default-user=s64",
      "userId": "03661387064598226500"
     },
     "user_tz": -120
    },
    "id": "NckydXQbfrS3",
    "outputId": "d1fe4273-c492-4cf8-e496-7f7d76d0d831"
   },
   "outputs": [
    {
     "data": {
      "text/plain": [
       "26-35    214690\n",
       "36-45    107499\n",
       "18-25     97634\n",
       "46-50     44526\n",
       "51-55     37618\n",
       "55+       20903\n",
       "0-17      14707\n",
       "Name: Age, dtype: int64"
      ]
     },
     "execution_count": 231,
     "metadata": {},
     "output_type": "execute_result"
    }
   ],
   "source": [
    "df.Age.value_counts()"
   ]
  },
  {
   "cell_type": "code",
   "execution_count": 232,
   "metadata": {
    "ExecuteTime": {
     "end_time": "2022-01-06T18:29:10.507629Z",
     "start_time": "2022-01-06T18:29:10.488681Z"
    },
    "colab": {
     "base_uri": "https://localhost:8080/"
    },
    "executionInfo": {
     "elapsed": 254,
     "status": "ok",
     "timestamp": 1638303472390,
     "user": {
      "displayName": "Eyad Gk",
      "photoUrl": "https://lh3.googleusercontent.com/a/default-user=s64",
      "userId": "03661387064598226500"
     },
     "user_tz": -120
    },
    "id": "1Di4fdSHfu-f",
    "outputId": "3e44974e-ca1c-4196-e045-ca15571c0751"
   },
   "outputs": [
    {
     "data": {
      "text/plain": [
       "4     70862\n",
       "0     68120\n",
       "7     57806\n",
       "1     45971\n",
       "17    39090\n",
       "20    32910\n",
       "12    30423\n",
       "14    26712\n",
       "2     25845\n",
       "16    24790\n",
       "6     19822\n",
       "3     17366\n",
       "10    12623\n",
       "5     11985\n",
       "15    11812\n",
       "11    11338\n",
       "19     8352\n",
       "13     7548\n",
       "18     6525\n",
       "9      6153\n",
       "8      1524\n",
       "Name: Occupation, dtype: int64"
      ]
     },
     "execution_count": 232,
     "metadata": {},
     "output_type": "execute_result"
    }
   ],
   "source": [
    "df.Occupation.value_counts()"
   ]
  },
  {
   "cell_type": "code",
   "execution_count": 233,
   "metadata": {
    "ExecuteTime": {
     "end_time": "2022-01-06T18:29:11.699337Z",
     "start_time": "2022-01-06T18:29:10.746631Z"
    },
    "colab": {
     "base_uri": "https://localhost:8080/",
     "height": 731
    },
    "executionInfo": {
     "elapsed": 947,
     "status": "ok",
     "timestamp": 1638301210040,
     "user": {
      "displayName": "Eyad Gk",
      "photoUrl": "https://lh3.googleusercontent.com/a/default-user=s64",
      "userId": "03661387064598226500"
     },
     "user_tz": -120
    },
    "id": "3gpacEf5SnlX",
    "outputId": "8c95b21e-5f87-444b-af02-39cd4252e39b"
   },
   "outputs": [
    {
     "data": {
      "text/plain": [
       "<AxesSubplot:xlabel='Occupation', ylabel='count'>"
      ]
     },
     "execution_count": 233,
     "metadata": {},
     "output_type": "execute_result"
    },
    {
     "data": {
      "image/png": "[encoded data removed]",
      "text/plain": [
       "<Figure size 1440x864 with 4 Axes>"
      ]
     },
     "metadata": {
      "needs_background": "light"
     },
     "output_type": "display_data"
    }
   ],
   "source": [
    "plt.figure(figsize=(20,12))\n",
    "\n",
    "plt.subplot(2,2,1)\n",
    "male = df.Gender[df.Gender == 'M'].count()\n",
    "female = df.Gender[df.Gender == 'F'].count()\n",
    "plt.pie([male, female], labels=['Male', 'Female'], explode=(0,0.01), autopct=\"%.2f%%\")\n",
    "\n",
    "plt.subplot(2,2,2)\n",
    "married = df.Marital_Status[df.Marital_Status == 1].count()\n",
    "single = df.Marital_Status[df.Marital_Status == 0].count()\n",
    "plt.pie([married, single], labels=['Married', 'Single'], explode=(0,0.01), autopct=\"%.2f%%\", colors=['grey', 'lightblue'])\n",
    "\n",
    "plt.subplot(2,2,3)\n",
    "sns.countplot(x='Age', data=df)\n",
    "\n",
    "plt.subplot(2,2,4)\n",
    "sns.countplot(x='Occupation', label=True,data=df)"
   ]
  },
  {
   "cell_type": "markdown",
   "metadata": {
    "id": "KbwGnISmXM_e"
   },
   "source": [
    "***- there is 76.11% male and 23.89% Female buyers from the store*** <br>\n",
    "***- The age group between 26-35 years is the most popular in the store most purchases are made by people between 18 to 45 age group***<br>\n",
    "***- About 60% of the buyers are singels and 40% are married*** <br>\n",
    "***- we do not known to each occupation each number corresponds, is difficult to make any analysis.***"
   ]
  },
  {
   "cell_type": "code",
   "execution_count": 234,
   "metadata": {
    "ExecuteTime": {
     "end_time": "2022-01-06T18:29:11.715027Z",
     "start_time": "2022-01-06T18:29:11.701095Z"
    },
    "colab": {
     "base_uri": "https://localhost:8080/"
    },
    "executionInfo": {
     "elapsed": 325,
     "status": "ok",
     "timestamp": 1638303509591,
     "user": {
      "displayName": "Eyad Gk",
      "photoUrl": "https://lh3.googleusercontent.com/a/default-user=s64",
      "userId": "03661387064598226500"
     },
     "user_tz": -120
    },
    "id": "adRTN2b8f3at",
    "outputId": "f703f9a8-c98a-4216-b449-7a5160f2e163"
   },
   "outputs": [
    {
     "data": {
      "text/plain": [
       "5     148592\n",
       "1     138353\n",
       "8     112132\n",
       "11     23960\n",
       "2      23499\n",
       "6      20164\n",
       "3      19849\n",
       "4      11567\n",
       "16      9697\n",
       "15      6203\n",
       "13      5440\n",
       "10      5032\n",
       "12      3875\n",
       "7       3668\n",
       "18      3075\n",
       "14      1500\n",
       "17       567\n",
       "9        404\n",
       "Name: Product_Category_1, dtype: int64"
      ]
     },
     "execution_count": 234,
     "metadata": {},
     "output_type": "execute_result"
    }
   ],
   "source": [
    "df.Product_Category_1.value_counts()"
   ]
  },
  {
   "cell_type": "code",
   "execution_count": 235,
   "metadata": {
    "ExecuteTime": {
     "end_time": "2022-01-06T18:29:11.730268Z",
     "start_time": "2022-01-06T18:29:11.715992Z"
    },
    "colab": {
     "base_uri": "https://localhost:8080/"
    },
    "executionInfo": {
     "elapsed": 323,
     "status": "ok",
     "timestamp": 1638303522465,
     "user": {
      "displayName": "Eyad Gk",
      "photoUrl": "https://lh3.googleusercontent.com/a/default-user=s64",
      "userId": "03661387064598226500"
     },
     "user_tz": -120
    },
    "id": "02GwPhMtf74h",
    "outputId": "54ffd003-d7be-492a-bd1d-9c1d3fe15d36"
   },
   "outputs": [
    {
     "data": {
      "text/plain": [
       "0     166986\n",
       "8      63058\n",
       "14     54158\n",
       "2      48481\n",
       "16     42602\n",
       "15     37317\n",
       "5      25874\n",
       "4      25225\n",
       "6      16251\n",
       "11     13945\n",
       "17     13130\n",
       "13     10369\n",
       "9       5591\n",
       "12      5419\n",
       "10      2991\n",
       "3       2835\n",
       "18      2730\n",
       "7        615\n",
       "Name: Product_Category_2, dtype: int64"
      ]
     },
     "execution_count": 235,
     "metadata": {},
     "output_type": "execute_result"
    }
   ],
   "source": [
    "df.Product_Category_2.value_counts()"
   ]
  },
  {
   "cell_type": "code",
   "execution_count": 236,
   "metadata": {
    "ExecuteTime": {
     "end_time": "2022-01-06T18:29:11.869644Z",
     "start_time": "2022-01-06T18:29:11.842716Z"
    },
    "colab": {
     "base_uri": "https://localhost:8080/"
    },
    "executionInfo": {
     "elapsed": 352,
     "status": "ok",
     "timestamp": 1638303530581,
     "user": {
      "displayName": "Eyad Gk",
      "photoUrl": "https://lh3.googleusercontent.com/a/default-user=s64",
      "userId": "03661387064598226500"
     },
     "user_tz": -120
    },
    "id": "vHfJBrsUf-iw",
    "outputId": "6c1fc983-ee40-45a5-8a4c-12f764704ad8"
   },
   "outputs": [
    {
     "data": {
      "text/plain": [
       "0     373299\n",
       "16     32148\n",
       "15     27611\n",
       "14     18121\n",
       "17     16449\n",
       "5      16380\n",
       "8      12384\n",
       "9      11414\n",
       "12      9094\n",
       "13      5385\n",
       "6       4818\n",
       "18      4563\n",
       "4       1840\n",
       "11      1773\n",
       "10      1698\n",
       "3        600\n",
       "Name: Product_Category_3, dtype: int64"
      ]
     },
     "execution_count": 236,
     "metadata": {},
     "output_type": "execute_result"
    }
   ],
   "source": [
    "df.Product_Category_3.value_counts()"
   ]
  },
  {
   "cell_type": "code",
   "execution_count": 237,
   "metadata": {
    "ExecuteTime": {
     "end_time": "2022-01-06T18:29:12.897860Z",
     "start_time": "2022-01-06T18:29:12.085000Z"
    },
    "colab": {
     "base_uri": "https://localhost:8080/",
     "height": 732
    },
    "executionInfo": {
     "elapsed": 1856,
     "status": "ok",
     "timestamp": 1638301931714,
     "user": {
      "displayName": "Eyad Gk",
      "photoUrl": "https://lh3.googleusercontent.com/a/default-user=s64",
      "userId": "03661387064598226500"
     },
     "user_tz": -120
    },
    "id": "LziQETMpYbh2",
    "outputId": "a31f9a72-155a-4153-a6bb-4ecaed05dcd5"
   },
   "outputs": [
    {
     "data": {
      "text/plain": [
       "<AxesSubplot:xlabel='Product_Category_3', ylabel='count'>"
      ]
     },
     "execution_count": 237,
     "metadata": {},
     "output_type": "execute_result"
    },
    {
     "data": {
      "image/png": "[encoded data removed]",
      "text/plain": [
       "<Figure size 1440x864 with 3 Axes>"
      ]
     },
     "metadata": {
      "needs_background": "light"
     },
     "output_type": "display_data"
    }
   ],
   "source": [
    "plt.figure(figsize=(20,12))\n",
    "\n",
    "plt.subplot(2,2,1)\n",
    "sns.countplot(x='Product_Category_1', data=df)\n",
    "\n",
    "plt.subplot(2,2,2)\n",
    "sns.countplot(x='Product_Category_2', data=df)\n",
    "\n",
    "plt.subplot(2,2,3)\n",
    "sns.countplot(x='Product_Category_3', data=df)"
   ]
  },
  {
   "cell_type": "markdown",
   "metadata": {
    "id": "vj9BDZqNcwXZ"
   },
   "source": [
    "***hint: we dont know the product names***<br>\n",
    "***- In Product_Category_1 we have more products in numbers 1,5,8***<br>\n",
    "***- In product_category_2 we have 8,2,14,15,16 products more but***<br>\n",
    "***- In Product_category_3 we have more products in numbers 5,14,15,16,17***<br>\n",
    "***- Peopole are more likely to come to the store and buy products only from product_Category_1 They are satisfied with this and do not buy products from other Categories***"
   ]
  },
  {
   "cell_type": "code",
   "execution_count": 238,
   "metadata": {
    "ExecuteTime": {
     "end_time": "2022-01-06T18:29:12.945699Z",
     "start_time": "2022-01-06T18:29:12.898867Z"
    },
    "colab": {
     "base_uri": "https://localhost:8080/"
    },
    "executionInfo": {
     "elapsed": 509,
     "status": "ok",
     "timestamp": 1638303588309,
     "user": {
      "displayName": "Eyad Gk",
      "photoUrl": "https://lh3.googleusercontent.com/a/default-user=s64",
      "userId": "03661387064598226500"
     },
     "user_tz": -120
    },
    "id": "EdIqRZOagJ9U",
    "outputId": "09580f56-db37-4536-8069-d0d7d50ffbe3"
   },
   "outputs": [
    {
     "data": {
      "text/plain": [
       "B    226493\n",
       "C    166446\n",
       "A    144638\n",
       "Name: City_Category, dtype: int64"
      ]
     },
     "execution_count": 238,
     "metadata": {},
     "output_type": "execute_result"
    }
   ],
   "source": [
    "df.City_Category.value_counts()"
   ]
  },
  {
   "cell_type": "code",
   "execution_count": 239,
   "metadata": {
    "ExecuteTime": {
     "end_time": "2022-01-06T18:29:12.992811Z",
     "start_time": "2022-01-06T18:29:12.947693Z"
    },
    "colab": {
     "base_uri": "https://localhost:8080/"
    },
    "executionInfo": {
     "elapsed": 416,
     "status": "ok",
     "timestamp": 1638303613198,
     "user": {
      "displayName": "Eyad Gk",
      "photoUrl": "https://lh3.googleusercontent.com/a/default-user=s64",
      "userId": "03661387064598226500"
     },
     "user_tz": -120
    },
    "id": "pi9UCBYigOjI",
    "outputId": "341b7191-11c5-4886-b2ef-03dd8e5366c7"
   },
   "outputs": [
    {
     "data": {
      "text/plain": [
       "1     189192\n",
       "2      99459\n",
       "3      93312\n",
       "4+     82889\n",
       "0      72725\n",
       "Name: Stay_In_Current_City_Years, dtype: int64"
      ]
     },
     "execution_count": 239,
     "metadata": {},
     "output_type": "execute_result"
    }
   ],
   "source": [
    "df.Stay_In_Current_City_Years.value_counts()"
   ]
  },
  {
   "cell_type": "code",
   "execution_count": 240,
   "metadata": {
    "ExecuteTime": {
     "end_time": "2022-01-06T18:29:13.813841Z",
     "start_time": "2022-01-06T18:29:13.161786Z"
    },
    "colab": {
     "base_uri": "https://localhost:8080/",
     "height": 379
    },
    "executionInfo": {
     "elapsed": 765,
     "status": "ok",
     "timestamp": 1638303260747,
     "user": {
      "displayName": "Eyad Gk",
      "photoUrl": "https://lh3.googleusercontent.com/a/default-user=s64",
      "userId": "03661387064598226500"
     },
     "user_tz": -120
    },
    "id": "EBitjvkFeJM2",
    "outputId": "b8db6cc3-a7ce-4c43-f950-4dfab707fed9"
   },
   "outputs": [
    {
     "data": {
      "text/plain": [
       "<AxesSubplot:xlabel='Stay_In_Current_City_Years', ylabel='count'>"
      ]
     },
     "execution_count": 240,
     "metadata": {},
     "output_type": "execute_result"
    },
    {
     "data": {
      "image/png": "[encoded data removed]",
      "text/plain": [
       "<Figure size 1440x864 with 2 Axes>"
      ]
     },
     "metadata": {
      "needs_background": "light"
     },
     "output_type": "display_data"
    }
   ],
   "source": [
    "plt.figure(figsize=(20,12))\n",
    "\n",
    "plt.subplot(2,2,1)\n",
    "sns.countplot(x='City_Category', data=df)\n",
    "\n",
    "plt.subplot(2,2,2)\n",
    "sns.countplot(x='Stay_In_Current_City_Years', data=df)\n"
   ]
  },
  {
   "cell_type": "markdown",
   "metadata": {
    "id": "pu1u6qf5fCyJ"
   },
   "source": [
    "***- Pepole from City_Category B are more likely to come to the store***<br>\n",
    "***- It can be observed that, as people who are new in the the current city, they tend to visit the store more frequently***"
   ]
  },
  {
   "cell_type": "code",
   "execution_count": 241,
   "metadata": {
    "ExecuteTime": {
     "end_time": "2022-01-06T18:29:19.014205Z",
     "start_time": "2022-01-06T18:29:13.814838Z"
    },
    "colab": {
     "base_uri": "https://localhost:8080/",
     "height": 216
    },
    "executionInfo": {
     "elapsed": 1876,
     "status": "ok",
     "timestamp": 1638303795907,
     "user": {
      "displayName": "Eyad Gk",
      "photoUrl": "https://lh3.googleusercontent.com/a/default-user=s64",
      "userId": "03661387064598226500"
     },
     "user_tz": -120
    },
    "id": "1lfudFBte6pF",
    "outputId": "eea9bdb0-9c24-45a7-d5a2-c737edd8e12f"
   },
   "outputs": [
    {
     "data": {
      "text/html": [
       "<div>\n",
       "<style scoped>\n",
       "    .dataframe tbody tr th:only-of-type {\n",
       "        vertical-align: middle;\n",
       "    }\n",
       "\n",
       "    .dataframe tbody tr th {\n",
       "        vertical-align: top;\n",
       "    }\n",
       "\n",
       "    .dataframe thead th {\n",
       "        text-align: right;\n",
       "    }\n",
       "</style>\n",
       "<table border=\"1\" class=\"dataframe\">\n",
       "  <thead>\n",
       "    <tr style=\"text-align: right;\">\n",
       "      <th></th>\n",
       "      <th>User_ID</th>\n",
       "      <th>Product_ID</th>\n",
       "      <th>Gender</th>\n",
       "      <th>Age</th>\n",
       "      <th>Occupation</th>\n",
       "      <th>City_Category</th>\n",
       "      <th>Stay_In_Current_City_Years</th>\n",
       "      <th>Marital_Status</th>\n",
       "      <th>Product_Category_1</th>\n",
       "      <th>Product_Category_2</th>\n",
       "      <th>Product_Category_3</th>\n",
       "      <th>Purchase</th>\n",
       "      <th>Gender_MaritalStatus</th>\n",
       "    </tr>\n",
       "  </thead>\n",
       "  <tbody>\n",
       "    <tr>\n",
       "      <th>0</th>\n",
       "      <td>1000001</td>\n",
       "      <td>P00069042</td>\n",
       "      <td>F</td>\n",
       "      <td>0-17</td>\n",
       "      <td>10</td>\n",
       "      <td>A</td>\n",
       "      <td>2</td>\n",
       "      <td>Single</td>\n",
       "      <td>3</td>\n",
       "      <td>0</td>\n",
       "      <td>0</td>\n",
       "      <td>8370</td>\n",
       "      <td>F_Single</td>\n",
       "    </tr>\n",
       "    <tr>\n",
       "      <th>1</th>\n",
       "      <td>1000001</td>\n",
       "      <td>P00248942</td>\n",
       "      <td>F</td>\n",
       "      <td>0-17</td>\n",
       "      <td>10</td>\n",
       "      <td>A</td>\n",
       "      <td>2</td>\n",
       "      <td>Single</td>\n",
       "      <td>1</td>\n",
       "      <td>6</td>\n",
       "      <td>14</td>\n",
       "      <td>15200</td>\n",
       "      <td>F_Single</td>\n",
       "    </tr>\n",
       "    <tr>\n",
       "      <th>2</th>\n",
       "      <td>1000001</td>\n",
       "      <td>P00087842</td>\n",
       "      <td>F</td>\n",
       "      <td>0-17</td>\n",
       "      <td>10</td>\n",
       "      <td>A</td>\n",
       "      <td>2</td>\n",
       "      <td>Single</td>\n",
       "      <td>12</td>\n",
       "      <td>0</td>\n",
       "      <td>0</td>\n",
       "      <td>1422</td>\n",
       "      <td>F_Single</td>\n",
       "    </tr>\n",
       "  </tbody>\n",
       "</table>\n",
       "</div>"
      ],
      "text/plain": [
       "   User_ID Product_ID Gender   Age  Occupation City_Category  \\\n",
       "0  1000001  P00069042      F  0-17          10             A   \n",
       "1  1000001  P00248942      F  0-17          10             A   \n",
       "2  1000001  P00087842      F  0-17          10             A   \n",
       "\n",
       "  Stay_In_Current_City_Years Marital_Status  Product_Category_1  \\\n",
       "0                          2         Single                   3   \n",
       "1                          2         Single                   1   \n",
       "2                          2         Single                  12   \n",
       "\n",
       "   Product_Category_2  Product_Category_3  Purchase Gender_MaritalStatus  \n",
       "0                   0                   0      8370             F_Single  \n",
       "1                   6                  14     15200             F_Single  \n",
       "2                   0                   0      1422             F_Single  "
      ]
     },
     "execution_count": 241,
     "metadata": {},
     "output_type": "execute_result"
    }
   ],
   "source": [
    "#Creating new column in the dataset \n",
    "df2 = df.copy()\n",
    "df2.Marital_Status = df2.Marital_Status.apply(lambda x: 'Married' if x==1 else 'Single')\n",
    "df2['Gender_MaritalStatus'] = df2.apply(lambda x:'%s_%s' % (x['Gender'],x['Marital_Status']),axis=1)\n",
    "df2.head(3)"
   ]
  },
  {
   "cell_type": "code",
   "execution_count": 242,
   "metadata": {
    "ExecuteTime": {
     "end_time": "2022-01-06T18:29:19.077413Z",
     "start_time": "2022-01-06T18:29:19.015184Z"
    },
    "colab": {
     "base_uri": "https://localhost:8080/"
    },
    "executionInfo": {
     "elapsed": 305,
     "status": "ok",
     "timestamp": 1638304064976,
     "user": {
      "displayName": "Eyad Gk",
      "photoUrl": "https://lh3.googleusercontent.com/a/default-user=s64",
      "userId": "03661387064598226500"
     },
     "user_tz": -120
    },
    "id": "7XVbzi_ch-pM",
    "outputId": "082578a8-622c-44a7-987d-9a550b88e93a"
   },
   "outputs": [
    {
     "data": {
      "text/plain": [
       "M_Single     240843\n",
       "M_Married    164537\n",
       "F_Single      76974\n",
       "F_Married     55223\n",
       "Name: Gender_MaritalStatus, dtype: int64"
      ]
     },
     "execution_count": 242,
     "metadata": {},
     "output_type": "execute_result"
    }
   ],
   "source": [
    "df2.Gender_MaritalStatus.value_counts()"
   ]
  },
  {
   "cell_type": "code",
   "execution_count": 243,
   "metadata": {
    "ExecuteTime": {
     "end_time": "2022-01-06T18:29:19.916378Z",
     "start_time": "2022-01-06T18:29:19.079409Z"
    },
    "colab": {
     "base_uri": "https://localhost:8080/",
     "height": 360
    },
    "executionInfo": {
     "elapsed": 861,
     "status": "ok",
     "timestamp": 1638304746235,
     "user": {
      "displayName": "Eyad Gk",
      "photoUrl": "https://lh3.googleusercontent.com/a/default-user=s64",
      "userId": "03661387064598226500"
     },
     "user_tz": -120
    },
    "id": "MvZXM9YAiE3F",
    "outputId": "db41d0a2-429b-4c02-b4e3-0638fa6dbbde"
   },
   "outputs": [
    {
     "data": {
      "image/png": "[encoded data removed]",
      "text/plain": [
       "<Figure size 1296x864 with 2 Axes>"
      ]
     },
     "metadata": {
      "needs_background": "light"
     },
     "output_type": "display_data"
    }
   ],
   "source": [
    "plt.figure(figsize=(18,12))\n",
    "\n",
    "plt.subplot(2,2,1)\n",
    "sns.countplot(x='Gender_MaritalStatus', data=df2);\n",
    "\n",
    "# Visuiliaze with pie chart to see the ratio\n",
    "plt.subplot(2,2,2)\n",
    "m_single = df2.Gender_MaritalStatus[df2.Gender_MaritalStatus == 'M_Single'].count()\n",
    "f_single = df2.Gender_MaritalStatus[df2.Gender_MaritalStatus == 'F_Single'].count()\n",
    "m_married = df2.Gender_MaritalStatus[df2.Gender_MaritalStatus == 'M_Married'].count()\n",
    "f_married = df2.Gender_MaritalStatus[df2.Gender_MaritalStatus == 'F_Married'].count()\n",
    "labels = ['Single Males', 'Single Females', 'Married Males', 'Married Females']\n",
    "\n",
    "plt.pie([m_single, f_single, m_married, f_married], labels=labels, autopct='%.2f%%', explode=(0.01,0.01,0.01,0.01))\n",
    "my_circle = plt.Circle( (0,0), 0.4, color='white')\n",
    "plt.gcf().gca().add_artist(my_circle)\n",
    "plt.legend(bbox_to_anchor=(1, 0))\n",
    "\n",
    "plt.show()"
   ]
  },
  {
   "cell_type": "markdown",
   "metadata": {
    "id": "XEXNoxm3iUyG"
   },
   "source": [
    "***- Single Males are more likely to visit the store***<br>\n",
    "***- Single female buyers are more in number than married ones***"
   ]
  },
  {
   "cell_type": "code",
   "execution_count": 244,
   "metadata": {
    "ExecuteTime": {
     "end_time": "2022-01-06T18:29:20.645375Z",
     "start_time": "2022-01-06T18:29:19.917342Z"
    },
    "colab": {
     "base_uri": "https://localhost:8080/",
     "height": 388
    },
    "executionInfo": {
     "elapsed": 803,
     "status": "ok",
     "timestamp": 1638304931978,
     "user": {
      "displayName": "Eyad Gk",
      "photoUrl": "https://lh3.googleusercontent.com/a/default-user=s64",
      "userId": "03661387064598226500"
     },
     "user_tz": -120
    },
    "id": "zydSijJLgt6t",
    "outputId": "eae73a47-9667-430e-92cd-f44b865fbcc0"
   },
   "outputs": [
    {
     "data": {
      "image/png": "[encoded data removed]",
      "text/plain": [
       "<Figure size 864x432 with 1 Axes>"
      ]
     },
     "metadata": {
      "needs_background": "light"
     },
     "output_type": "display_data"
    }
   ],
   "source": [
    "plt.figure(figsize=(12,6))\n",
    "sns.countplot(x='Age', hue='Gender_MaritalStatus', data=df2);"
   ]
  },
  {
   "cell_type": "markdown",
   "metadata": {
    "id": "oo4EI4JWidC1"
   },
   "source": [
    "***- Males (single and married) between the age group of 26-35 are major buyers***<br>\n",
    "***- Single Males Between the age 18-45 are more likely to visit the store***\n",
    "\n",
    "\n"
   ]
  },
  {
   "cell_type": "code",
   "execution_count": 245,
   "metadata": {
    "ExecuteTime": {
     "end_time": "2022-01-06T18:29:31.652009Z",
     "start_time": "2022-01-06T18:29:20.647341Z"
    },
    "colab": {
     "base_uri": "https://localhost:8080/",
     "height": 1000
    },
    "executionInfo": {
     "elapsed": 4171,
     "status": "ok",
     "timestamp": 1638305248328,
     "user": {
      "displayName": "Eyad Gk",
      "photoUrl": "https://lh3.googleusercontent.com/a/default-user=s64",
      "userId": "03661387064598226500"
     },
     "user_tz": -120
    },
    "id": "84qW7HBihz9R",
    "outputId": "c620db71-1f99-451c-f9f1-4cd508130d08"
   },
   "outputs": [
    {
     "data": {
      "text/plain": [
       "<Figure size 1440x864 with 0 Axes>"
      ]
     },
     "metadata": {},
     "output_type": "display_data"
    },
    {
     "data": {
      "image/png": "[encoded data removed]",
      "text/plain": [
       "<Figure size 360x360 with 1 Axes>"
      ]
     },
     "metadata": {
      "needs_background": "light"
     },
     "output_type": "display_data"
    },
    {
     "data": {
      "image/png": "[encoded data removed]",
      "text/plain": [
       "<Figure size 360x360 with 1 Axes>"
      ]
     },
     "metadata": {
      "needs_background": "light"
     },
     "output_type": "display_data"
    },
    {
     "data": {
      "image/png": "[encoded data removed]",
      "text/plain": [
       "<Figure size 360x360 with 1 Axes>"
      ]
     },
     "metadata": {
      "needs_background": "light"
     },
     "output_type": "display_data"
    },
    {
     "data": {
      "image/png": "[encoded data removed]",
      "text/plain": [
       "<Figure size 360x360 with 1 Axes>"
      ]
     },
     "metadata": {
      "needs_background": "light"
     },
     "output_type": "display_data"
    }
   ],
   "source": [
    "plt.figure(figsize =(20,12))\n",
    "\n",
    "sns.catplot(x='Gender_MaritalStatus', y='Purchase', data=df2, kind='boxen')\n",
    "\n",
    "ordr_occ =df2.groupby([\"Age\"]).mean().sort_values(by='Purchase',ascending=False).index\n",
    "sns.catplot(x='Age', y='Purchase', order=ordr_occ, data = df2, kind='bar')\n",
    "\n",
    "ordr_occ =df2.groupby([\"Occupation\"]).mean().sort_values(by='Purchase',ascending=False).index\n",
    "sns.catplot(x='Occupation', y='Purchase', order=ordr_occ, data=df2, kind='bar')\n",
    "\n",
    "\n",
    "sns.catplot(x='City_Category', y='Purchase', data=df2, kind='boxen')\n",
    "\n",
    "\n",
    "plt.show()\n"
   ]
  },
  {
   "cell_type": "markdown",
   "metadata": {
    "id": "_xGQrdhsmwS0"
   },
   "source": [
    "***- Males spend more than females***<br>\n",
    "***- Age factor : People who have earned more (spend more time working) and have saved enough money, tend to spend more***<br>\n",
    "***- Occupation codes 17, 12 and 15 appears to be earning more and accordingly spend more***<br>\n",
    "***- People living in Category C city appears to spend more in the mall***"
   ]
  },
  {
   "cell_type": "code",
   "execution_count": null,
   "metadata": {
    "ExecuteTime": {
     "start_time": "2022-01-06T18:29:16.417Z"
    },
    "colab": {
     "base_uri": "https://localhost:8080/",
     "height": 715
    },
    "executionInfo": {
     "elapsed": 1626,
     "status": "ok",
     "timestamp": 1638306480796,
     "user": {
      "displayName": "Eyad Gk",
      "photoUrl": "https://lh3.googleusercontent.com/a/default-user=s64",
      "userId": "03661387064598226500"
     },
     "user_tz": -120
    },
    "id": "Lq_T9MRLluck",
    "outputId": "18f6c15f-4b2a-487a-918f-f230fdd73424"
   },
   "outputs": [],
   "source": [
    "plt.figure(figsize = (16,12))\n",
    "sns.barplot(x='City_Category',y='Purchase',hue='Gender_MaritalStatus',data = df2);"
   ]
  },
  {
   "cell_type": "markdown",
   "metadata": {
    "id": "BK6do7VarWkI"
   },
   "source": [
    "***- in City_Category A,B,C Males (Single or Married) spends more***<br>\n",
    "***- Females (Single or Married) in City Category C spends more***"
   ]
  },
  {
   "cell_type": "code",
   "execution_count": null,
   "metadata": {
    "ExecuteTime": {
     "start_time": "2022-01-06T18:29:16.993Z"
    },
    "colab": {
     "base_uri": "https://localhost:8080/",
     "height": 519
    },
    "executionInfo": {
     "elapsed": 2250,
     "status": "ok",
     "timestamp": 1638306364916,
     "user": {
      "displayName": "Eyad Gk",
      "photoUrl": "https://lh3.googleusercontent.com/a/default-user=s64",
      "userId": "03661387064598226500"
     },
     "user_tz": -120
    },
    "id": "Q_2cundenjTo",
    "outputId": "ba9c867d-a088-40e3-ad97-069292522d07"
   },
   "outputs": [],
   "source": [
    "plt.figure(figsize = (25,10))\n",
    "sns.barplot(x='City_Category', y='Purchase',hue = 'Age',data = df);"
   ]
  },
  {
   "cell_type": "markdown",
   "metadata": {
    "id": "7VnhPMpDsIPs"
   },
   "source": [
    "***- In CITY_A more money spent by 51-55+ age group***<br>\n",
    "***- In CITY_B money spent by all age groups are similar***<br>\n",
    "***- In CITY_C more money spent by 56+ age group but overall more money sent by city_C.***"
   ]
  },
  {
   "cell_type": "code",
   "execution_count": null,
   "metadata": {
    "ExecuteTime": {
     "start_time": "2022-01-06T18:29:17.575Z"
    },
    "colab": {
     "base_uri": "https://localhost:8080/",
     "height": 732
    },
    "executionInfo": {
     "elapsed": 5028,
     "status": "ok",
     "timestamp": 1638307379333,
     "user": {
      "displayName": "Eyad Gk",
      "photoUrl": "https://lh3.googleusercontent.com/a/default-user=s64",
      "userId": "03661387064598226500"
     },
     "user_tz": -120
    },
    "id": "dOGDFbiEquO6",
    "outputId": "657455a9-a2f6-4128-bbc3-ea7c387d5ac6"
   },
   "outputs": [],
   "source": [
    "plt.figure(figsize=(20,12))\n",
    "\n",
    "plt.subplot(2,2,1)\n",
    "order = df.groupby('Product_Category_1').mean().sort_values(by='Purchase',ascending=False).index\n",
    "sns.barplot(x='Product_Category_1',y='Purchase', data=df, order=order)\n",
    "\n",
    "plt.subplot(2,2,2)\n",
    "order = df.groupby('Product_Category_2').mean().sort_values(by='Purchase',ascending=False).index\n",
    "sns.barplot(x='Product_Category_2', y='Purchase', data=df, order=order)\n",
    "\n",
    "plt.subplot(2,2,3)\n",
    "order = df.groupby('Product_Category_3').mean().sort_values(by='Purchase',ascending=False).index\n",
    "sns.barplot(x='Product_Category_3', y='Purchase', data=df, order=order)"
   ]
  },
  {
   "cell_type": "code",
   "execution_count": null,
   "metadata": {
    "ExecuteTime": {
     "start_time": "2022-01-06T18:29:17.871Z"
    }
   },
   "outputs": [],
   "source": [
    "sns.kdeplot(x='Purchase', data=df);"
   ]
  },
  {
   "cell_type": "code",
   "execution_count": null,
   "metadata": {
    "ExecuteTime": {
     "start_time": "2022-01-06T18:29:18.551Z"
    }
   },
   "outputs": [],
   "source": [
    "FEATURES = [col for col in df.columns if col not in ['Purchase', 'User_ID', 'Product_ID']]\n",
    "cat_features = [col for col in FEATURES if df[col].nunique() < 25]\n",
    "cont_features = [col for col in FEATURES if df[col].nunique() >= 25]"
   ]
  },
  {
   "cell_type": "code",
   "execution_count": null,
   "metadata": {
    "ExecuteTime": {
     "start_time": "2022-01-06T18:29:18.851Z"
    }
   },
   "outputs": [],
   "source": [
    "FEATURES"
   ]
  },
  {
   "cell_type": "code",
   "execution_count": null,
   "metadata": {
    "ExecuteTime": {
     "start_time": "2022-01-06T18:29:19.142Z"
    }
   },
   "outputs": [],
   "source": [
    "cat_features"
   ]
  },
  {
   "cell_type": "code",
   "execution_count": null,
   "metadata": {
    "ExecuteTime": {
     "start_time": "2022-01-06T18:29:19.443Z"
    }
   },
   "outputs": [],
   "source": [
    "cont_features"
   ]
  },
  {
   "cell_type": "code",
   "execution_count": null,
   "metadata": {
    "ExecuteTime": {
     "start_time": "2022-01-06T18:29:19.802Z"
    }
   },
   "outputs": [],
   "source": [
    "ncols = 3\n",
    "nrows = int(len(cat_features) / ncols + (len(FEATURES) % ncols > 0))-1\n",
    "\n",
    "fig, axes = plt.subplots(nrows, ncols, figsize=(22, 10), facecolor='#EAEAF2')\n",
    "\n",
    "for r in range(nrows):\n",
    "    for c in range(ncols):\n",
    "        col = cat_features[r*ncols+c]\n",
    "        sns.barplot(y=df['Purchase'], x=df[col], ax=axes[r, c], palette='autumn', label='Train data')\n",
    "        axes[r, c].set_ylabel('')\n",
    "        axes[r, c].set_xlabel(col, fontsize=12, fontweight='bold')\n",
    "        axes[r, c].tick_params(labelsize=10, width=0.5)\n",
    "        axes[r, c].xaxis.offsetText.set_fontsize(6)\n",
    "        axes[r, c].yaxis.offsetText.set_fontsize(6)\n",
    "plt.show()"
   ]
  },
  {
   "cell_type": "markdown",
   "metadata": {
    "id": "EAyc-RjMvtPl"
   },
   "source": [
    "<a id=\"6\"></a>\n",
    "# Label Encoder"
   ]
  },
  {
   "cell_type": "code",
   "execution_count": null,
   "metadata": {
    "ExecuteTime": {
     "start_time": "2022-01-06T18:29:20.439Z"
    },
    "colab": {
     "base_uri": "https://localhost:8080/",
     "height": 296
    },
    "executionInfo": {
     "elapsed": 303,
     "status": "ok",
     "timestamp": 1638307657470,
     "user": {
      "displayName": "Eyad Gk",
      "photoUrl": "https://lh3.googleusercontent.com/a/default-user=s64",
      "userId": "03661387064598226500"
     },
     "user_tz": -120
    },
    "id": "nEKQwuKxvttS",
    "outputId": "7978400a-e30f-499f-e46c-634ba36bcb03"
   },
   "outputs": [],
   "source": [
    "df.head()"
   ]
  },
  {
   "cell_type": "code",
   "execution_count": null,
   "metadata": {
    "ExecuteTime": {
     "start_time": "2022-01-06T18:29:20.712Z"
    },
    "colab": {
     "base_uri": "https://localhost:8080/",
     "height": 143
    },
    "executionInfo": {
     "elapsed": 284,
     "status": "ok",
     "timestamp": 1638307901302,
     "user": {
      "displayName": "Eyad Gk",
      "photoUrl": "https://lh3.googleusercontent.com/a/default-user=s64",
      "userId": "03661387064598226500"
     },
     "user_tz": -120
    },
    "id": "TURKOkKmvvJD",
    "outputId": "ce219b9c-bf50-426e-eab3-ea5353768ab9"
   },
   "outputs": [],
   "source": [
    "df3 = df.copy()\n",
    "df3.drop(['User_ID', 'Product_ID'], axis=1, inplace=True) # non-important Featuers\n",
    "df3.head(3)"
   ]
  },
  {
   "cell_type": "code",
   "execution_count": null,
   "metadata": {
    "ExecuteTime": {
     "start_time": "2022-01-06T18:29:21.056Z"
    },
    "id": "2HjumwwRzSPH"
   },
   "outputs": [],
   "source": [
    "encode_x = LabelEncoder()"
   ]
  },
  {
   "cell_type": "code",
   "execution_count": null,
   "metadata": {
    "ExecuteTime": {
     "start_time": "2022-01-06T18:29:22.257Z"
    },
    "colab": {
     "base_uri": "https://localhost:8080/",
     "height": 206
    },
    "executionInfo": {
     "elapsed": 623,
     "status": "ok",
     "timestamp": 1638308640138,
     "user": {
      "displayName": "Eyad Gk",
      "photoUrl": "https://lh3.googleusercontent.com/a/default-user=s64",
      "userId": "03661387064598226500"
     },
     "user_tz": -120
    },
    "id": "dXGsN_4Pwqp2",
    "outputId": "9aca4162-786e-4b2b-bd87-c9e0cbe3e2d0"
   },
   "outputs": [],
   "source": [
    "df3.Gender = encode_x.fit_transform(df3['Gender'])\n",
    "df3.Age = encode_x.fit_transform(df3['Age'])\n",
    "df3.City_Category = encode_x.fit_transform(df3['City_Category'])\n",
    "df3.head()"
   ]
  },
  {
   "cell_type": "code",
   "execution_count": null,
   "metadata": {
    "ExecuteTime": {
     "start_time": "2022-01-06T18:29:22.590Z"
    },
    "id": "GKgPZDGrzYy_"
   },
   "outputs": [],
   "source": [
    "df3.Marital_Status = df3.Marital_Status.astype('int32')"
   ]
  },
  {
   "cell_type": "code",
   "execution_count": null,
   "metadata": {
    "ExecuteTime": {
     "start_time": "2022-01-06T18:29:22.941Z"
    },
    "colab": {
     "base_uri": "https://localhost:8080/"
    },
    "executionInfo": {
     "elapsed": 248,
     "status": "ok",
     "timestamp": 1638308683115,
     "user": {
      "displayName": "Eyad Gk",
      "photoUrl": "https://lh3.googleusercontent.com/a/default-user=s64",
      "userId": "03661387064598226500"
     },
     "user_tz": -120
    },
    "id": "hAsFeNtszl5M",
    "outputId": "7cb7f23c-3d02-461d-f3d0-1d811d663754"
   },
   "outputs": [],
   "source": [
    "df3.info()"
   ]
  },
  {
   "cell_type": "code",
   "execution_count": null,
   "metadata": {
    "ExecuteTime": {
     "start_time": "2022-01-06T18:29:23.263Z"
    },
    "colab": {
     "base_uri": "https://localhost:8080/"
    },
    "executionInfo": {
     "elapsed": 4,
     "status": "ok",
     "timestamp": 1638308759983,
     "user": {
      "displayName": "Eyad Gk",
      "photoUrl": "https://lh3.googleusercontent.com/a/default-user=s64",
      "userId": "03661387064598226500"
     },
     "user_tz": -120
    },
    "id": "vJ2OelPVzpr7",
    "outputId": "ce59eca1-8bb4-46cd-af6d-7edbe0c8618a"
   },
   "outputs": [],
   "source": [
    "df3.Stay_In_Current_City_Years.unique()"
   ]
  },
  {
   "cell_type": "code",
   "execution_count": null,
   "metadata": {
    "ExecuteTime": {
     "start_time": "2022-01-06T18:29:23.580Z"
    },
    "colab": {
     "base_uri": "https://localhost:8080/",
     "height": 206
    },
    "executionInfo": {
     "elapsed": 258,
     "status": "ok",
     "timestamp": 1638308765458,
     "user": {
      "displayName": "Eyad Gk",
      "photoUrl": "https://lh3.googleusercontent.com/a/default-user=s64",
      "userId": "03661387064598226500"
     },
     "user_tz": -120
    },
    "id": "Uk_tQtoUzvzA",
    "outputId": "7ff0a124-3c5a-4fea-ea6c-57b630208d4c"
   },
   "outputs": [],
   "source": [
    "df3.Stay_In_Current_City_Years = df3.Stay_In_Current_City_Years.replace('4+', 4)\n",
    "df3.head()"
   ]
  },
  {
   "cell_type": "code",
   "execution_count": null,
   "metadata": {
    "ExecuteTime": {
     "start_time": "2022-01-06T18:29:23.895Z"
    },
    "colab": {
     "base_uri": "https://localhost:8080/"
    },
    "executionInfo": {
     "elapsed": 790,
     "status": "ok",
     "timestamp": 1638308888119,
     "user": {
      "displayName": "Eyad Gk",
      "photoUrl": "https://lh3.googleusercontent.com/a/default-user=s64",
      "userId": "03661387064598226500"
     },
     "user_tz": -120
    },
    "id": "sAb-jeMMz9oa",
    "outputId": "d76b3238-e9d8-4f6d-8d6f-ec432d601d69"
   },
   "outputs": [],
   "source": [
    "df3[df3.columns[0:]].corr()['Purchase'].sort_values(ascending=False)"
   ]
  },
  {
   "cell_type": "code",
   "execution_count": null,
   "metadata": {
    "ExecuteTime": {
     "start_time": "2022-01-06T18:29:24.210Z"
    },
    "colab": {
     "base_uri": "https://localhost:8080/",
     "height": 685
    },
    "executionInfo": {
     "elapsed": 1206,
     "status": "ok",
     "timestamp": 1638309079398,
     "user": {
      "displayName": "Eyad Gk",
      "photoUrl": "https://lh3.googleusercontent.com/a/default-user=s64",
      "userId": "03661387064598226500"
     },
     "user_tz": -120
    },
    "id": "S8UfcV6S0h1p",
    "outputId": "ededb3d3-3c89-4dd4-dede-e462d5b4cfff"
   },
   "outputs": [],
   "source": [
    "plt.figure(figsize=(14,10))\n",
    "sns.heatmap(df3.corr(), cmap=\"YlGnBu\", cbar=True, annot=True, square=True, fmt='.2f', annot_kws={'size': 10});"
   ]
  },
  {
   "cell_type": "markdown",
   "metadata": {
    "id": "93gCGFkw1ZYg"
   },
   "source": [
    "**Based on the above visualizations and correlation matrix**<br><br>\n",
    "**Observations:**<br><br>\n",
    "***- there is 76.11% male and 23.89% Female buyers from the store*** <br>\n",
    "***- The age group between 26-35 years is the most popular in the store most purchases are made by people between 18 to 45 age group***<br>\n",
    "***- About 60% of the buyers are singels and 40% are married*** <br>\n",
    "***- we do not known to each occupation each number corresponds, is difficult to make any analysis.***<br>\n",
    "***- In Product_Category_1 we have more products in numbers 1,5,8***<br>\n",
    "***- In product_category_2 we have 8,2,14,15,16 products more but***<br>\n",
    "***- In Product_category_3 we have more products in numbers 5,14,15,16,17***<br>\n",
    "***- Peopole are more likely to come to the store and buy products only from product_Category_1 They are satisfied with this and do not buy products from other Categories***<br>\n",
    "***- Pepole from City_Category B are more likely to come to the store***<br>\n",
    "***- It can be observed that, as people who are new in the the current city, they tend to visit the store more frequently***<br>\n",
    "***- Single Males are more likely to visit the store***<br>\n",
    "***- Single female buyers are more in number than married ones***<br>\n",
    "***- Males (single and married) between the age group of 26-35 are major buyers***<br>\n",
    "***- Single Males Between the age 18-45 are more likely to visit the store***<br>\n",
    "***- Males spend more than females***<br>\n",
    "***- Age factor : People who have earned more (spend more time working) and have saved enough money, tend to spend more***<br>\n",
    "***- Occupation codes 17, 12 and 15 appears to be earning more and accordingly spend more***<br>\n",
    "***- People living in Category C city appears to spend more in the mall***<br>\n",
    "***- in City_Category A,B,C Males (Single or Married) spends more***<br>\n",
    "***- Females (Single or Married) in City Category C spends more***<br>\n",
    "***- In CITY_A more money spent by 51-55+ age group***<br>\n",
    "***- In CITY_B money spent by all age groups are similar***<br>\n",
    "***- In CITY_C more money spent by 56+ age group but overall more money sent by city_C.***<br><br><br>\n",
    "\n",
    "\n",
    "**Conclusion:** <br><br>\n",
    "**- it appears that the customer purchase behaviour mainly depends on 4 major factors:** <br>\n",
    "  **a. City Category (Category C and B are more in number and spend more on items)**<Br>\n",
    "  **b. Gender (Males (esp. unmarried) buy more than females)**<br>\n",
    "  **c. Occupation (codes 4,0,7 are regular buyers, codes 17,12,15 spend more on items)**<br>\n",
    "  **d. People Aged between 26-35 visit more and also spend more more on items\n",
    "By observing the dataset, it appears that column Product Category 1 is the 'main' category type and other 2 columns indicating Product categories (2 & 3) are sub categories of the product. As there were quite a few missing values in Product category2 and Product Category3 (replaced by 0s) no particular insight can be provided.**"
   ]
  },
  {
   "cell_type": "markdown",
   "metadata": {},
   "source": [
    "<a id='7'></a>\n",
    "# Feature Engineering"
   ]
  },
  {
   "cell_type": "code",
   "execution_count": null,
   "metadata": {
    "ExecuteTime": {
     "start_time": "2022-01-06T18:29:25.217Z"
    }
   },
   "outputs": [],
   "source": [
    "df3.columns"
   ]
  },
  {
   "cell_type": "code",
   "execution_count": null,
   "metadata": {
    "ExecuteTime": {
     "start_time": "2022-01-06T18:29:25.563Z"
    }
   },
   "outputs": [],
   "source": [
    "FEATURES"
   ]
  },
  {
   "cell_type": "code",
   "execution_count": null,
   "metadata": {
    "ExecuteTime": {
     "start_time": "2022-01-06T18:29:25.907Z"
    }
   },
   "outputs": [],
   "source": [
    "df3[\"mean\"] = df3[FEATURES].mean(axis=1)\n",
    "df3[\"std\"] = df3[FEATURES].std(axis=1)\n",
    "df3[\"min\"] = df3[FEATURES].min(axis=1)\n",
    "df3[\"max\"] = df3[FEATURES].max(axis=1)"
   ]
  },
  {
   "cell_type": "code",
   "execution_count": null,
   "metadata": {
    "ExecuteTime": {
     "start_time": "2022-01-06T18:29:26.241Z"
    }
   },
   "outputs": [],
   "source": [
    "df3.head()"
   ]
  },
  {
   "cell_type": "markdown",
   "metadata": {},
   "source": [
    "<a id='8'></a>\n",
    "# Feature Scaling"
   ]
  },
  {
   "cell_type": "code",
   "execution_count": null,
   "metadata": {
    "ExecuteTime": {
     "start_time": "2022-01-06T18:29:26.975Z"
    }
   },
   "outputs": [],
   "source": [
    "scaler = StandardScaler()\n",
    "X_scale = scaler.fit_transform(X)\n",
    "X_scale[0]"
   ]
  },
  {
   "cell_type": "markdown",
   "metadata": {},
   "source": [
    "<a id='9'></a>\n",
    "# Assign Features and Target Variables "
   ]
  },
  {
   "cell_type": "code",
   "execution_count": null,
   "metadata": {
    "ExecuteTime": {
     "start_time": "2022-01-06T18:29:27.951Z"
    },
    "executionInfo": {
     "elapsed": 277,
     "status": "ok",
     "timestamp": 1638311839980,
     "user": {
      "displayName": "Eyad Gk",
      "photoUrl": "https://lh3.googleusercontent.com/a/default-user=s64",
      "userId": "03661387064598226500"
     },
     "user_tz": -120
    },
    "id": "vGC8ad06-bNr"
   },
   "outputs": [],
   "source": [
    "X = df3.drop('Purchase', axis=1)\n",
    "y = df3.Purchase"
   ]
  },
  {
   "cell_type": "code",
   "execution_count": null,
   "metadata": {
    "ExecuteTime": {
     "start_time": "2022-01-06T18:29:28.713Z"
    }
   },
   "outputs": [],
   "source": [
    "X.head()"
   ]
  },
  {
   "cell_type": "markdown",
   "metadata": {},
   "source": [
    "<a id='10'></a>\n",
    "# Split the data into Training and Testing Data"
   ]
  },
  {
   "cell_type": "code",
   "execution_count": null,
   "metadata": {
    "ExecuteTime": {
     "start_time": "2022-01-06T18:29:29.582Z"
    },
    "executionInfo": {
     "elapsed": 37,
     "status": "ok",
     "timestamp": 1638316245362,
     "user": {
      "displayName": "Eyad Gk",
      "photoUrl": "https://lh3.googleusercontent.com/a/default-user=s64",
      "userId": "03661387064598226500"
     },
     "user_tz": -120
    },
    "id": "8lwNyJgl_sZd"
   },
   "outputs": [],
   "source": [
    "X_train, X_test, y_train, y_test = train_test_split(X_scale,y, test_size=0.3, random_state=0)"
   ]
  },
  {
   "cell_type": "markdown",
   "metadata": {},
   "source": [
    "<a id='11'></a>\n",
    "# Modeling"
   ]
  },
  {
   "cell_type": "code",
   "execution_count": 210,
   "metadata": {
    "ExecuteTime": {
     "end_time": "2022-01-06T17:19:31.700866Z",
     "start_time": "2022-01-06T17:19:31.687902Z"
    }
   },
   "outputs": [],
   "source": [
    "def kfolds(model, model_name):\n",
    "    model = cross_val_score(model, X,y, cv=10)\n",
    "    model_score = np.average(model)\n",
    "    print(f\"{model_name} score on cross validation: {model_score * 100}%\")\n",
    "\n",
    "def train(model, model_name):\n",
    "    model.fit(X_train, y_train)\n",
    "    model_train_score = model.score(X_train, y_train)\n",
    "    model_test_score = model.score(X_test, y_test)\n",
    "    print(f\"{model_name} model score on Training data: {model_train_score * 100}%\\n{model_name} model score on Testing data: {model_test_score * 100}%\")\n",
    "\n",
    "def r2(model, model_name):\n",
    "    score = r2_score(y_test, model.predict(X_test))\n",
    "    print(f\"R2 Score for {model_name} is {score * 100}%\")"
   ]
  },
  {
   "cell_type": "markdown",
   "metadata": {},
   "source": [
    "<a id='11.1'></a>\n",
    "## Random Forest Regressor Algorithm"
   ]
  },
  {
   "cell_type": "code",
   "execution_count": 211,
   "metadata": {
    "ExecuteTime": {
     "end_time": "2022-01-06T17:49:36.122215Z",
     "start_time": "2022-01-06T17:19:31.701863Z"
    }
   },
   "outputs": [
    {
     "name": "stdout",
     "output_type": "stream",
     "text": [
      "Random Forest score on cross validation: 62.577673050814354%\n",
      "Random Forest model score on Training data: 79.13621359016281%\n",
      "Random Forest model score on Testing data: 62.45367362895464%\n"
     ]
    }
   ],
   "source": [
    "rf_model = RandomForestRegressor()\n",
    "kfolds(rf_model, \"Random Forest\")\n",
    "train(rf_model, \"Random Forest\")"
   ]
  },
  {
   "cell_type": "code",
   "execution_count": 65,
   "metadata": {
    "ExecuteTime": {
     "end_time": "2022-01-06T15:15:40.508446Z",
     "start_time": "2022-01-06T15:15:29.252249Z"
    }
   },
   "outputs": [
    {
     "name": "stdout",
     "output_type": "stream",
     "text": [
      "R2 Score for Random Forest is 62.4269537963914%\n"
     ]
    }
   ],
   "source": [
    "r2(rf_model, \"Random Forest\")"
   ]
  },
  {
   "cell_type": "markdown",
   "metadata": {
    "executionInfo": {
     "elapsed": 9,
     "status": "ok",
     "timestamp": 1638316021524,
     "user": {
      "displayName": "Eyad Gk",
      "photoUrl": "https://lh3.googleusercontent.com/a/default-user=s64",
      "userId": "03661387064598226500"
     },
     "user_tz": -120
    },
    "id": "f-f1xfC9ODNz"
   },
   "source": [
    "<a id='11.2'></a>\n",
    "## Gradient Boosting Regressor Model Algorithm"
   ]
  },
  {
   "cell_type": "code",
   "execution_count": 74,
   "metadata": {
    "ExecuteTime": {
     "end_time": "2022-01-06T15:56:43.360457Z",
     "start_time": "2022-01-06T15:39:26.438532Z"
    }
   },
   "outputs": [
    {
     "name": "stdout",
     "output_type": "stream",
     "text": [
      "Gradient Boosting score on cross validation: 63.944172546222845%\n",
      "Gradient Boosting model score on Training data: 63.800394655056714%\n",
      "Gradient Boosting model score on Testing data: 64.32636037987855%\n"
     ]
    }
   ],
   "source": [
    "gbr = GradientBoostingRegressor()\n",
    "kfolds(gbr, \"Gradient Boosting\")\n",
    "train(gbr, \"Gradient Boosting\")"
   ]
  },
  {
   "cell_type": "code",
   "execution_count": 75,
   "metadata": {
    "ExecuteTime": {
     "end_time": "2022-01-06T15:56:43.934223Z",
     "start_time": "2022-01-06T15:56:43.365187Z"
    }
   },
   "outputs": [
    {
     "name": "stdout",
     "output_type": "stream",
     "text": [
      "R2 Score for Gradient Boosting is 64.32636037987855%\n"
     ]
    }
   ],
   "source": [
    "r2(gbr, \"Gradient Boosting\")"
   ]
  },
  {
   "cell_type": "markdown",
   "metadata": {},
   "source": [
    "<a id='11.2'></a>\n",
    "## Bagging"
   ]
  },
  {
   "cell_type": "code",
   "execution_count": 212,
   "metadata": {
    "ExecuteTime": {
     "end_time": "2022-01-06T18:27:35.717016Z",
     "start_time": "2022-01-06T18:24:06.984772Z"
    }
   },
   "outputs": [
    {
     "name": "stdout",
     "output_type": "stream",
     "text": [
      "Bagging score on cross validation: 61.53972957549022%\n",
      "Bagging model score on Training data: 78.31244489953265%\n",
      "Bagging model score on Testing data: 61.29867030350147%\n"
     ]
    }
   ],
   "source": [
    "bagg = BaggingRegressor()\n",
    "kfolds(bagg, \"Bagging\")\n",
    "train(bagg, \"Bagging\")"
   ]
  },
  {
   "cell_type": "code",
   "execution_count": 213,
   "metadata": {
    "ExecuteTime": {
     "end_time": "2022-01-06T18:27:36.460894Z",
     "start_time": "2022-01-06T18:27:35.718031Z"
    }
   },
   "outputs": [
    {
     "name": "stdout",
     "output_type": "stream",
     "text": [
      "R2 Score for Bagging is 61.29867030350147%\n"
     ]
    }
   ],
   "source": [
    "r2(bagg, \"Bagging\")"
   ]
  },
  {
   "cell_type": "markdown",
   "metadata": {},
   "source": [
    "<a id='11.4'></a>\n",
    "## Linear Regression Algorithm"
   ]
  },
  {
   "cell_type": "code",
   "execution_count": 89,
   "metadata": {
    "ExecuteTime": {
     "end_time": "2022-01-06T17:03:36.493348Z",
     "start_time": "2022-01-06T17:03:31.732123Z"
    }
   },
   "outputs": [
    {
     "name": "stdout",
     "output_type": "stream",
     "text": [
      "Linear Regression score on cross validation: 16.362474225328636%\n",
      "Linear Regression model score on Training data: 16.48541939045455%\n",
      "Linear Regression model score on Testing data: 16.10842317595871%\n"
     ]
    }
   ],
   "source": [
    "lr = LinearRegression()\n",
    "kfolds(lr, \"Linear Regression\")\n",
    "train(lr, \"Linear Regression\")"
   ]
  },
  {
   "cell_type": "code",
   "execution_count": 90,
   "metadata": {
    "ExecuteTime": {
     "end_time": "2022-01-06T17:03:36.509306Z",
     "start_time": "2022-01-06T17:03:36.494346Z"
    }
   },
   "outputs": [
    {
     "name": "stdout",
     "output_type": "stream",
     "text": [
      "R2 Score for Linear Regression is 16.10842317595871%\n"
     ]
    }
   ],
   "source": [
    "r2(lr, \"Linear Regression\")"
   ]
  },
  {
   "cell_type": "markdown",
   "metadata": {},
   "source": [
    "<a id='11.5'></a>\n",
    "## KNN Algorithm"
   ]
  },
  {
   "cell_type": "code",
   "execution_count": 78,
   "metadata": {
    "ExecuteTime": {
     "end_time": "2022-01-06T16:27:43.189707Z",
     "start_time": "2022-01-06T16:00:29.337139Z"
    }
   },
   "outputs": [
    {
     "name": "stdout",
     "output_type": "stream",
     "text": [
      "KNN score on cross validation: 57.95210192986586%\n",
      "KNN model score on Training data: 62.13584950360966%\n",
      "KNN model score on Testing data: 46.79731455253765%\n"
     ]
    }
   ],
   "source": [
    "knn = KNeighborsRegressor()\n",
    "kfolds(knn, \"KNN\")\n",
    "train(knn, \"KNN\")"
   ]
  },
  {
   "cell_type": "code",
   "execution_count": 79,
   "metadata": {
    "ExecuteTime": {
     "end_time": "2022-01-06T16:28:49.548692Z",
     "start_time": "2022-01-06T16:27:43.194439Z"
    }
   },
   "outputs": [
    {
     "name": "stdout",
     "output_type": "stream",
     "text": [
      "R2 Score for KNN is 46.79731455253765%\n"
     ]
    }
   ],
   "source": [
    "r2(knn, \"KNN\")"
   ]
  },
  {
   "cell_type": "markdown",
   "metadata": {},
   "source": [
    "<a id='11.6'></a>\n",
    "## Decision Tree Regressor Algorithm"
   ]
  },
  {
   "cell_type": "code",
   "execution_count": 80,
   "metadata": {
    "ExecuteTime": {
     "end_time": "2022-01-06T16:29:34.877568Z",
     "start_time": "2022-01-06T16:28:49.553873Z"
    }
   },
   "outputs": [
    {
     "name": "stdout",
     "output_type": "stream",
     "text": [
      "Decision Tree score on cross validation: 55.63743208139468%\n",
      "Decision Tree model score on Training data: 80.39458475505627%\n",
      "Decision Tree model score on Testing data: 54.151476414418376%\n"
     ]
    }
   ],
   "source": [
    "dtr = DecisionTreeRegressor()\n",
    "kfolds(dtr, \"Decision Tree\")\n",
    "train(dtr, \"Decision Tree\")"
   ]
  },
  {
   "cell_type": "code",
   "execution_count": 81,
   "metadata": {
    "ExecuteTime": {
     "end_time": "2022-01-06T16:29:35.045090Z",
     "start_time": "2022-01-06T16:29:34.880786Z"
    }
   },
   "outputs": [
    {
     "name": "stdout",
     "output_type": "stream",
     "text": [
      "R2 Score for Decision Tree is 54.151476414418376%\n"
     ]
    }
   ],
   "source": [
    "r2(dtr, \"Decision Tree\")"
   ]
  },
  {
   "cell_type": "markdown",
   "metadata": {},
   "source": [
    "<a id='11.7'></a>\n",
    "## XGBRegressor"
   ]
  },
  {
   "cell_type": "code",
   "execution_count": 87,
   "metadata": {
    "ExecuteTime": {
     "end_time": "2022-01-06T17:00:42.474069Z",
     "start_time": "2022-01-06T17:00:34.106502Z"
    }
   },
   "outputs": [
    {
     "name": "stdout",
     "output_type": "stream",
     "text": [
      "XGBoost model score on Training data: 66.92569124696368%\n",
      "XGBoost model score on Testing data: 66.45950654038934%\n"
     ]
    }
   ],
   "source": [
    "xgboost = XGBRegressor()\n",
    "train(xgboost, \"XGBoost\")"
   ]
  },
  {
   "cell_type": "code",
   "execution_count": 88,
   "metadata": {
    "ExecuteTime": {
     "end_time": "2022-01-06T17:00:42.567818Z",
     "start_time": "2022-01-06T17:00:42.476064Z"
    }
   },
   "outputs": [
    {
     "name": "stdout",
     "output_type": "stream",
     "text": [
      "R2 Score for XGBoost is 66.45950654038934%\n"
     ]
    }
   ],
   "source": [
    "r2(xgboost, \"XGBoost\")"
   ]
  },
  {
   "cell_type": "code",
   "execution_count": null,
   "metadata": {},
   "outputs": [],
   "source": []
  }
 ],
 "metadata": {
  "colab": {
   "authorship_tag": "ABX9TyM3xdRw+G0DbdKbelLMgNej",
   "name": "Black Friday Analysis Project.ipynb",
   "provenance": []
  },
  "kernelspec": {
   "display_name": "Python 3",
   "language": "python",
   "name": "python3"
  },
  "language_info": {
   "codemirror_mode": {
    "name": "ipython",
    "version": 3
   },
   "file_extension": ".py",
   "mimetype": "text/x-python",
   "name": "python",
   "nbconvert_exporter": "python",
   "pygments_lexer": "ipython3",
   "version": "3.8.8"
  },
  "toc": {
   "base_numbering": 1,
   "nav_menu": {},
   "number_sections": true,
   "sideBar": true,
   "skip_h1_title": false,
   "title_cell": "Table of Contents",
   "title_sidebar": "Contents",
   "toc_cell": false,
   "toc_position": {},
   "toc_section_display": true,
   "toc_window_display": false
  }
 },
 "nbformat": 4,
 "nbformat_minor": 1
}
